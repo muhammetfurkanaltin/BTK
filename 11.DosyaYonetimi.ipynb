{
 "cells": [
  {
   "cell_type": "markdown",
   "metadata": {},
   "source": [
    "# 11.1-Dosya açmak ve oluşturmak için open() fonksiyon kullanılır.\n",
    "\n",
    "\n"
   ]
  },
  {
   "cell_type": "markdown",
   "metadata": {},
   "source": [
    "kullanımı : open(dosya_adi, dosya_erişme_modu)\n",
    "dosya_erişme_modu => dosyayı hangi amaçlı açtıgımızı belirtir"
   ]
  },
  {
   "cell_type": "markdown",
   "metadata": {},
   "source": [
    "\"w\" => Dosyayı konumda olusturur"
   ]
  },
  {
   "cell_type": "code",
   "execution_count": 2,
   "metadata": {},
   "outputs": [
    {
     "name": "stdout",
     "output_type": "stream",
     "text": [
      "<_io.TextIOWrapper name='newfile.txt' mode='w' encoding='cp1254'>\n"
     ]
    }
   ],
   "source": [
    "file = open(\"newfile.txt\",\"w\")\n",
    "file.close()"
   ]
  },
  {
   "cell_type": "code",
   "execution_count": 6,
   "metadata": {},
   "outputs": [
    {
     "name": "stdout",
     "output_type": "stream",
     "text": [
      "<_io.TextIOWrapper name='C:/Users/mfurk/OneDrive/Masaüstü/MasaÜstü/newfile.txt' mode='w' encoding='cp1254'>\n"
     ]
    }
   ],
   "source": [
    "file = open(\"C:/Users/mfurk/OneDrive/Masaüstü/MasaÜstü/newfile.txt\",\"w\")\n",
    "file.close()\n",
    "print(file)"
   ]
  },
  {
   "cell_type": "code",
   "execution_count": 10,
   "metadata": {},
   "outputs": [],
   "source": [
    "file = open(\"newfile.txt\",\"w\",encoding=\"utf-8\")\n",
    "file.write(\"FurkanALTıN\")\n",
    "file.close()"
   ]
  },
  {
   "cell_type": "markdown",
   "metadata": {},
   "source": [
    "\"a\" => ekleme Dosya konumda yoksa olusturur"
   ]
  },
  {
   "cell_type": "code",
   "execution_count": 19,
   "metadata": {},
   "outputs": [],
   "source": [
    "file = open(\"newfile.txt\",\"a\",encoding=\"utf-8\")\n",
    "file.write(\"FurkanALTıN\\n\")\n",
    "file.write(\"\\nFurkanALTıN\")\n",
    "file.close()"
   ]
  },
  {
   "cell_type": "markdown",
   "metadata": {},
   "source": [
    "\"x\" => Olusturma Dosya zaten varsa hata verir."
   ]
  },
  {
   "cell_type": "code",
   "execution_count": 3,
   "metadata": {},
   "outputs": [
    {
     "ename": "FileExistsError",
     "evalue": "[Errno 17] File exists: 'newfile2.txt'",
     "output_type": "error",
     "traceback": [
      "\u001b[1;31m---------------------------------------------------------------------------\u001b[0m",
      "\u001b[1;31mFileExistsError\u001b[0m                           Traceback (most recent call last)",
      "Cell \u001b[1;32mIn[3], line 1\u001b[0m\n\u001b[1;32m----> 1\u001b[0m file \u001b[38;5;241m=\u001b[39m \u001b[38;5;28;43mopen\u001b[39;49m\u001b[43m(\u001b[49m\u001b[38;5;124;43m\"\u001b[39;49m\u001b[38;5;124;43mnewfile2.txt\u001b[39;49m\u001b[38;5;124;43m\"\u001b[39;49m\u001b[43m,\u001b[49m\u001b[38;5;124;43m\"\u001b[39;49m\u001b[38;5;124;43mx\u001b[39;49m\u001b[38;5;124;43m\"\u001b[39;49m\u001b[43m,\u001b[49m\u001b[43mencoding\u001b[49m\u001b[38;5;241;43m=\u001b[39;49m\u001b[38;5;124;43m\"\u001b[39;49m\u001b[38;5;124;43mutf-8\u001b[39;49m\u001b[38;5;124;43m\"\u001b[39;49m\u001b[43m)\u001b[49m\n",
      "File \u001b[1;32m~\\AppData\\Roaming\\Python\\Python311\\site-packages\\IPython\\core\\interactiveshell.py:324\u001b[0m, in \u001b[0;36m_modified_open\u001b[1;34m(file, *args, **kwargs)\u001b[0m\n\u001b[0;32m    317\u001b[0m \u001b[38;5;28;01mif\u001b[39;00m file \u001b[38;5;129;01min\u001b[39;00m {\u001b[38;5;241m0\u001b[39m, \u001b[38;5;241m1\u001b[39m, \u001b[38;5;241m2\u001b[39m}:\n\u001b[0;32m    318\u001b[0m     \u001b[38;5;28;01mraise\u001b[39;00m \u001b[38;5;167;01mValueError\u001b[39;00m(\n\u001b[0;32m    319\u001b[0m         \u001b[38;5;124mf\u001b[39m\u001b[38;5;124m\"\u001b[39m\u001b[38;5;124mIPython won\u001b[39m\u001b[38;5;124m'\u001b[39m\u001b[38;5;124mt let you open fd=\u001b[39m\u001b[38;5;132;01m{\u001b[39;00mfile\u001b[38;5;132;01m}\u001b[39;00m\u001b[38;5;124m by default \u001b[39m\u001b[38;5;124m\"\u001b[39m\n\u001b[0;32m    320\u001b[0m         \u001b[38;5;124m\"\u001b[39m\u001b[38;5;124mas it is likely to crash IPython. If you know what you are doing, \u001b[39m\u001b[38;5;124m\"\u001b[39m\n\u001b[0;32m    321\u001b[0m         \u001b[38;5;124m\"\u001b[39m\u001b[38;5;124myou can use builtins\u001b[39m\u001b[38;5;124m'\u001b[39m\u001b[38;5;124m open.\u001b[39m\u001b[38;5;124m\"\u001b[39m\n\u001b[0;32m    322\u001b[0m     )\n\u001b[1;32m--> 324\u001b[0m \u001b[38;5;28;01mreturn\u001b[39;00m \u001b[43mio_open\u001b[49m\u001b[43m(\u001b[49m\u001b[43mfile\u001b[49m\u001b[43m,\u001b[49m\u001b[43m \u001b[49m\u001b[38;5;241;43m*\u001b[39;49m\u001b[43margs\u001b[49m\u001b[43m,\u001b[49m\u001b[43m \u001b[49m\u001b[38;5;241;43m*\u001b[39;49m\u001b[38;5;241;43m*\u001b[39;49m\u001b[43mkwargs\u001b[49m\u001b[43m)\u001b[49m\n",
      "\u001b[1;31mFileExistsError\u001b[0m: [Errno 17] File exists: 'newfile2.txt'"
     ]
    }
   ],
   "source": [
    "file = open(\"newfile2.txt\",\"x\",encoding=\"utf-8\")\n"
   ]
  },
  {
   "cell_type": "markdown",
   "metadata": {},
   "source": [
    "# 11.2-\"r\" => Okuma "
   ]
  },
  {
   "cell_type": "code",
   "execution_count": 2,
   "metadata": {},
   "outputs": [
    {
     "name": "stdout",
     "output_type": "stream",
     "text": [
      "<_io.TextIOWrapper name='newfile.txt' mode='r' encoding='cp1254'>\n",
      "dosya kapandı.\n"
     ]
    }
   ],
   "source": [
    "try:\n",
    "    file = open(\"newfile.txt\",\"r\")\n",
    "    print(file)\n",
    "except FileNotFoundError:\n",
    "    print(\"dosya okuma hatası\")\n",
    "finally:\n",
    "    print(\"dosya kapandı.\")\n",
    "    file.close()"
   ]
  },
  {
   "cell_type": "code",
   "execution_count": 5,
   "metadata": {},
   "outputs": [
    {
     "name": "stdout",
     "output_type": "stream",
     "text": [
      "FurkanALTıNFurkanALTıNFurkanLTıN\n",
      "FurkanALTıNFurkanALTıNn/FurkanALTıN\n",
      "FurkanALTıN\n",
      "\n",
      "FurkanALTıN"
     ]
    }
   ],
   "source": [
    "file = open(\"newfile.txt\",\"r\",encoding=\"utf-8\")\n",
    "for i in file :\n",
    "    print(i,end=\"\")\n",
    "file.close()"
   ]
  },
  {
   "cell_type": "code",
   "execution_count": 6,
   "metadata": {},
   "outputs": [
    {
     "name": "stdout",
     "output_type": "stream",
     "text": [
      "FurkanALTıNFurkanALTıNFurkanLTıN\n",
      "FurkanALTıNFurkanALTıNn/FurkanALTıN\n",
      "FurkanALTıN\n",
      "\n",
      "FurkanALTıN\n"
     ]
    }
   ],
   "source": [
    "file = open(\"newfile.txt\",\"r\",encoding=\"utf-8\")\n",
    "content = file.read()\n",
    "print(content)\n",
    "file.close()"
   ]
  },
  {
   "cell_type": "code",
   "execution_count": 7,
   "metadata": {},
   "outputs": [
    {
     "name": "stdout",
     "output_type": "stream",
     "text": [
      "Furkan\n"
     ]
    }
   ],
   "source": [
    "file = open(\"newfile.txt\",\"r\",encoding=\"utf-8\")\n",
    "content = file.read(6)\n",
    "print(content)\n",
    "file.close()"
   ]
  },
  {
   "cell_type": "markdown",
   "metadata": {},
   "source": [
    "readline()"
   ]
  },
  {
   "cell_type": "code",
   "execution_count": 11,
   "metadata": {},
   "outputs": [
    {
     "name": "stdout",
     "output_type": "stream",
     "text": [
      "FurkanALTıNFurkanALTıNFurkanLTıN\n",
      "FurkanALTıNFurkanALTıNn/FurkanALTıN\n",
      "\n",
      "FurkanALTıN\n",
      "\n"
     ]
    }
   ],
   "source": [
    "file = open(\"newfile.txt\",\"r\",encoding=\"utf-8\")\n",
    "print(file.readline(),end=\"\")\n",
    "print(file.readline())\n",
    "print(file.readline())\n",
    "\n",
    "\n",
    "file.close()"
   ]
  },
  {
   "cell_type": "code",
   "execution_count": 16,
   "metadata": {},
   "outputs": [
    {
     "name": "stdout",
     "output_type": "stream",
     "text": [
      "FurkanALTıNFurkanALTıNFurkanLTıN\n",
      "\n"
     ]
    }
   ],
   "source": [
    "file = open(\"newfile.txt\",\"r\",encoding=\"utf-8\")\n",
    "\n",
    "liste = file.readlines()\n",
    "print(liste[0])\n",
    "file.close()"
   ]
  },
  {
   "cell_type": "markdown",
   "metadata": {},
   "source": [
    "# 11.3-Dosya okuma fonksiyonları"
   ]
  },
  {
   "cell_type": "code",
   "execution_count": 22,
   "metadata": {},
   "outputs": [
    {
     "name": "stdout",
     "output_type": "stream",
     "text": [
      "0123456789\n",
      "0\n",
      "0123456789işpoklusjfnısajbfafb\n"
     ]
    }
   ],
   "source": [
    "with open(\"newfile.txt\",\"r\",encoding=\"utf-8\") as file:\n",
    "\n",
    "    content= file.read(10)\n",
    "    print(content)\n",
    "    file.seek(0)\n",
    "    print(file.tell())\n",
    "    content2=file.read()\n",
    "    print(content2)\n",
    "\n",
    "    "
   ]
  },
  {
   "cell_type": "markdown",
   "metadata": {},
   "source": []
  },
  {
   "cell_type": "markdown",
   "metadata": {},
   "source": [
    "# 11.4-Dosya Güncelleme"
   ]
  },
  {
   "cell_type": "code",
   "execution_count": 41,
   "metadata": {},
   "outputs": [
    {
     "name": "stdout",
     "output_type": "stream",
     "text": [
      "0123456789denemelusjfnısajbfafb\n"
     ]
    }
   ],
   "source": [
    "with open(\"newfile.txt\",\"r+\",encoding=\"utf-8\") as file :\n",
    "    file.seek(10)\n",
    "    file.write(\"deneme\")\n",
    "\n",
    "with open(\"newfile.txt\",\"r+\",encoding=\"utf-8\") as file :\n",
    "    print(file.read())"
   ]
  },
  {
   "cell_type": "markdown",
   "metadata": {},
   "source": [
    "sayfa sonunda güncelleme"
   ]
  },
  {
   "cell_type": "code",
   "execution_count": 42,
   "metadata": {},
   "outputs": [
    {
     "name": "stdout",
     "output_type": "stream",
     "text": [
      "0123456789denemelusjfnısajbfafb\n",
      "Furkan\n"
     ]
    }
   ],
   "source": [
    "with open(\"newfile.txt\",\"a\",encoding=\"utf-8\") as file :\n",
    "    file.write(\"\\nFurkan\")\n",
    "\n",
    "with open(\"newfile.txt\",\"r\",encoding=\"utf-8\") as file :\n",
    "    print(file.read())"
   ]
  },
  {
   "cell_type": "markdown",
   "metadata": {},
   "source": [
    "sayfa basında güncelleme"
   ]
  },
  {
   "cell_type": "code",
   "execution_count": 44,
   "metadata": {},
   "outputs": [
    {
     "name": "stdout",
     "output_type": "stream",
     "text": [
      "Furkan Altın\n",
      "0123456789denemelusjfnısajbfafb\n",
      "\n"
     ]
    }
   ],
   "source": [
    "with open(\"newfile.txt\",\"r+\",encoding=\"utf-8\") as file :\n",
    "    content = file.read()\n",
    "    content = \"Furkan Altın\\n\" + content\n",
    "    file.seek(0)\n",
    "    file.write(content)\n",
    "    \n",
    "with open(\"newfile.txt\",\"r\",encoding=\"utf-8\") as file :\n",
    "    print(file.read())"
   ]
  },
  {
   "cell_type": "markdown",
   "metadata": {},
   "source": [
    "sayfa ortasında güncelleme"
   ]
  },
  {
   "cell_type": "code",
   "execution_count": 50,
   "metadata": {},
   "outputs": [
    {
     "name": "stdout",
     "output_type": "stream",
     "text": [
      "['Furkan Altın\\n', 'Ali\\n', '0123456789denemelusjfnısajbfafb\\n']\n",
      "Furkan Altın\n",
      "Ali\n",
      "0123456789denemelusjfnısajbfafb\n",
      "\n"
     ]
    }
   ],
   "source": [
    "with open(\"newfile.txt\",\"r+\",encoding=\"utf-8\") as file :\n",
    "    list = file.readlines()\n",
    "    list.insert(1,\"Ali\\n\")\n",
    "    file.seek(0)\n",
    "    for i in list:\n",
    "        file.write(i)\n",
    "    print(list)\n",
    "with open(\"newfile.txt\",\"r\",encoding=\"utf-8\") as file :\n",
    "    print(file.read())\n"
   ]
  }
 ],
 "metadata": {
  "kernelspec": {
   "display_name": "Python 3",
   "language": "python",
   "name": "python3"
  },
  "language_info": {
   "codemirror_mode": {
    "name": "ipython",
    "version": 3
   },
   "file_extension": ".py",
   "mimetype": "text/x-python",
   "name": "python",
   "nbconvert_exporter": "python",
   "pygments_lexer": "ipython3",
   "version": "3.11.8"
  }
 },
 "nbformat": 4,
 "nbformat_minor": 2
}
