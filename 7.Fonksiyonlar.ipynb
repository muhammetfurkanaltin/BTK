{
 "cells": [
  {
   "cell_type": "code",
   "execution_count": null,
   "metadata": {},
   "outputs": [],
   "source": [
    "# method\n",
    "\n",
    "list = [1,2,3]\n",
    "\n",
    "list.append(4)\n",
    "list.pop()\n",
    "\n",
    "print(type(list))\n",
    "print(list)\n",
    "\n",
    "myString = 'Hello'\n",
    "\n",
    "print(myString.upper())\n",
    "\n",
    "\n",
    "print(type(myString))\n",
    "\n",
    "# fonksiyon"
   ]
  },
  {
   "cell_type": "code",
   "execution_count": 1,
   "metadata": {},
   "outputs": [
    {
     "name": "stdout",
     "output_type": "stream",
     "text": [
      "Hello Ada\n"
     ]
    }
   ],
   "source": [
    "def sayHello(name = 'user'):\n",
    "    return 'Hello '+ name\n",
    "\n",
    "msg = sayHello('Çınar')\n",
    "msg = sayHello('Ada')\n",
    "\n",
    "print(msg)"
   ]
  },
  {
   "cell_type": "code",
   "execution_count": 2,
   "metadata": {},
   "outputs": [
    {
     "name": "stdout",
     "output_type": "stream",
     "text": [
      "35\n"
     ]
    }
   ],
   "source": [
    "def total(num1, num2):\n",
    "    return num1 + num2\n",
    "\n",
    "result = total(10,20)\n",
    "result = total(15,20)\n",
    "print(result)"
   ]
  },
  {
   "cell_type": "code",
   "execution_count": 3,
   "metadata": {},
   "outputs": [
    {
     "name": "stdout",
     "output_type": "stream",
     "text": [
      "2 9 20\n"
     ]
    }
   ],
   "source": [
    "def yasHesapla(dogumYili):\n",
    "    return 2019 - dogumYili\n",
    "\n",
    "ageCinar = yasHesapla(2017)\n",
    "ageAda = yasHesapla(2010)\n",
    "ageSena = yasHesapla(1999)\n",
    "\n",
    "print(ageCinar, ageAda, ageSena)"
   ]
  },
  {
   "cell_type": "code",
   "execution_count": 7,
   "metadata": {},
   "outputs": [
    {
     "name": "stdout",
     "output_type": "stream",
     "text": [
      "emekliliğinize 29 yıl kaldı\n",
      "Zaten emekli oldunuz\n",
      "emekliliğinize 20 yıl kaldı\n",
      "Help on function EmekliligeKacYilKaldi in module __main__:\n",
      "\n",
      "EmekliligeKacYilKaldi(dogumYili, isim)\n",
      "    DOCSTRING: Dogum yiliniza gore emekliliginize kac yil kaldı\n",
      "    INPUT: Dogum yili\n",
      "    OUTPUT: Hesaplanan yil bilgisi\n",
      "\n",
      "None\n"
     ]
    }
   ],
   "source": [
    "def EmekliligeKacYilKaldi(dogumYili, isim):\n",
    "    '''\n",
    "    DOCSTRING: Dogum yiliniza gore emekliliginize kac yil kaldı\n",
    "    INPUT: Dogum yili\n",
    "    OUTPUT: Hesaplanan yil bilgisi\n",
    "    '''\n",
    "    yas = yasHesapla(dogumYili)\n",
    "    emeklilik = 65 - yas\n",
    "\n",
    "    if emeklilik > 0:\n",
    "        print(f'emekliliğinize {emeklilik} yıl kaldı')\n",
    "    else:\n",
    "        print('Zaten emekli oldunuz')\n",
    "\n",
    "\n",
    "EmekliligeKacYilKaldi(1983, 'Ali')\n",
    "EmekliligeKacYilKaldi(1950, 'Ahmet')\n",
    "EmekliligeKacYilKaldi(1974, 'Yağmur')\n",
    "\n",
    "print(help(EmekliligeKacYilKaldi))\n"
   ]
  },
  {
   "cell_type": "code",
   "execution_count": 6,
   "metadata": {},
   "outputs": [
    {
     "name": "stdout",
     "output_type": "stream",
     "text": [
      "Help on built-in function append:\n",
      "\n",
      "append(object, /) method of builtins.list instance\n",
      "    Append object to the end of the list.\n",
      "\n",
      "None\n"
     ]
    }
   ],
   "source": [
    "list = [1,2,3]\n",
    "\n",
    "print(help(list.append))"
   ]
  },
  {
   "cell_type": "markdown",
   "metadata": {},
   "source": [
    "Lambda"
   ]
  },
  {
   "cell_type": "code",
   "execution_count": null,
   "metadata": {},
   "outputs": [],
   "source": [
    "# def square(num): return num ** 2\n",
    "# square =  lambda num: num ** 2\n",
    "\n",
    "numbers = [1,3,5,9,10,4]\n",
    "\n",
    "# result = list(map(lambda num: num ** 2, numbers))\n",
    "# result = list(map(square, numbers))\n",
    "# result = square(3)\n",
    "\n",
    "# for item in map(square, numbers):\n",
    "#     print(item)\n",
    "\n",
    "# def check_even(num): return num%2==0\n",
    "check_even = lambda num: num%2==0\n",
    "\n",
    "# result = list(filter(check_even, numbers))\n",
    "# result = list(filter(lambda num: num%2==0, numbers))\n",
    "# result = list(filter(check_even, numbers))\n",
    "\n",
    "result = check_even(numbers[2])\n",
    "\n",
    "\n",
    "print(result)"
   ]
  },
  {
   "cell_type": "code",
   "execution_count": null,
   "metadata": {},
   "outputs": [],
   "source": [
    "# def changeName(n):\n",
    "#     n = 'ada'\n",
    "\n",
    "# name = 'yiğit'\n",
    "\n",
    "# changeName(name)\n",
    "# print(name)\n",
    "\n",
    "# def change(n):\n",
    "#     n[0] = 'istanbul'\n",
    "\n",
    "# sehirler = ['ankara','izmir']\n",
    "\n",
    "# change(sehirler[:])\n",
    "\n",
    "# print(sehirler)\n",
    "\n",
    "def add(*params):\n",
    "    print(type(params))\n",
    "    sum = 0\n",
    "    for n in params:\n",
    "        sum = sum + n\n",
    "    return sum\n",
    "\n",
    "print(add(10, 20, 50))\n",
    "print(add(10, 20, 30))\n",
    "print(add(10, 20, 30,50,60,10,20))\n",
    "\n",
    "def displayUser(**args):\n",
    "    print(type(args))\n",
    "    for key, value in args.items():\n",
    "        print('{} is {}'.format(key,value))\n",
    "\n",
    "displayUser(name= 'Çınar', age = 2, city = 'istanbul')\n",
    "displayUser(name= 'Ada', age = 12, city = 'kocaeli', phone = '123132')\n",
    "displayUser(name= 'Yiğit', age = 14, city = 'ankara', phone = '123132', email= 'yigit@gmail.com')\n",
    "\n",
    "def myFunc(a, b, c, *args, **kwargs):\n",
    "    print(a)\n",
    "    print(b)\n",
    "    print(c)\n",
    "    print(args)\n",
    "    print(kwargs)\n",
    "\n",
    "myFunc(10, 20, 30, 40, 50, 60, 70, key1 = 'value 1', key2 = 'value 2')"
   ]
  },
  {
   "cell_type": "markdown",
   "metadata": {},
   "source": [
    "Global and Local"
   ]
  },
  {
   "cell_type": "code",
   "execution_count": 8,
   "metadata": {},
   "outputs": [
    {
     "name": "stdout",
     "output_type": "stream",
     "text": [
      "global x\n",
      "global x\n",
      "Ada\n",
      "Ada\n",
      "hello global string\n",
      "x : 50\n",
      "changed x to 100\n",
      "100\n"
     ]
    }
   ],
   "source": [
    "# global scope\n",
    "x = 'global x'\n",
    "\n",
    "def function(): \n",
    "    # local scope\n",
    "    # x = 'local x'\n",
    "    print(x)\n",
    "\n",
    "function()\n",
    "print(x)\n",
    "\n",
    "####################\n",
    "\n",
    "# global\n",
    "name = 'Çınar'\n",
    "\n",
    "def changeName(new_name):\n",
    "    # local \n",
    "    global name\n",
    "    name = new_name\n",
    "    print(name)\n",
    "\n",
    "changeName('Ada')\n",
    "print(name)\n",
    "\n",
    "####################\n",
    "\n",
    "name = 'global string'\n",
    "\n",
    "def greeting():\n",
    "    # name = 'Çınar'\n",
    "\n",
    "    def hello():\n",
    "        # name = 'Ada'\n",
    "        print('hello '+ name)\n",
    "\n",
    "    hello()\n",
    "\n",
    "greeting()\n",
    "\n",
    "####################\n",
    "\n",
    "x = 50\n",
    "def test(): \n",
    "    global x\n",
    "    print(f'x : {x}')\n",
    "\n",
    "    x = 100\n",
    "    print(f'changed x to {x}')\n",
    "\n",
    "test()\n",
    "print(x)"
   ]
  },
  {
   "cell_type": "code",
   "execution_count": null,
   "metadata": {},
   "outputs": [],
   "source": [
    "# 1- Gönderilen bir kelimeyi belirtilen kez ekranda gösteren fonksiyonu yazın. \n",
    "\n",
    "# def yazdir(kelime, adet):\n",
    "#     print(kelime * adet)\n",
    "\n",
    "# yazdir('Merhaba\\n', 10)\n",
    "\n",
    "\n",
    "# 2- Kendine gönderilen sınırsız sayıdaki parametreyi bir listeye çeviren fonksiyonu yazınız.\n",
    "\n",
    "# def listeyeCevir(*params):\n",
    "#     liste = []\n",
    "\n",
    "#     for param in params:\n",
    "#         liste.append(param)\n",
    "\n",
    "#     return liste\n",
    "\n",
    "# result = listeyeCevir(10,20,30,'Merhaba')\n",
    "\n",
    "# print(result)\n",
    "\n",
    "\n",
    "# 3- Gönderilen 2 sayı arasındaki tüm asal sayıları bulun.\n",
    "\n",
    "# def asalSayılariBul(sayi1, sayi2):\n",
    "#     for sayi in range(sayi1, sayi2+1):\n",
    "#         if sayi > 1:\n",
    "#             for i in range(2, sayi):\n",
    "#                 if (sayi % i == 0):\n",
    "#                     break\n",
    "#             else:\n",
    "#                 print(sayi)\n",
    "\n",
    "# sayi1 = int(input('sayı 1:'))\n",
    "# sayi2 = int(input('sayı 2:'))\n",
    "\n",
    "# asalSayılariBul(sayi1, sayi2)\n",
    "\n",
    "\n",
    "\n",
    "# 4- Kendisine gönderilen bir sayının tam bölenlerini bir liste şeklinde döndürünüz.\n",
    "\n",
    "\n",
    "def tamBolenleriBul(sayi):\n",
    "    tamBolenler = []\n",
    "\n",
    "    for i in range(2, sayi):\n",
    "        if (sayi % i == 0):\n",
    "            tamBolenler.append(i)\n",
    "    \n",
    "    return tamBolenler\n",
    "\n",
    "\n",
    "print(tamBolenleriBul(20))"
   ]
  },
  {
   "cell_type": "code",
   "execution_count": 9,
   "metadata": {},
   "outputs": [
    {
     "name": "stdout",
     "output_type": "stream",
     "text": [
      "Merhaba Sadık Turan\n",
      "paranızı alabilirsiniz.\n",
      "13245678 nolu hesabınızda 0 TL bulunmaktadır. Ek hesap limitiniz ise 2000 TL bulunmaktadır.\n",
      "*****************\n",
      "Merhaba Sadık Turan\n",
      "paranızı alabilirsiniz.\n",
      "13245678 nolu hesabınızda 0 TL bulunmaktadır. Ek hesap limitiniz ise 0 TL bulunmaktadır.\n"
     ]
    }
   ],
   "source": [
    "# Bankamatik Uygulaması\n",
    "\n",
    "SadikHesap = {\n",
    "    'ad': 'Sadık Turan',\n",
    "    'hesapNo': '13245678',\n",
    "    'bakiye': 3000,\n",
    "    'ekHesap': 2000\n",
    "}\n",
    "\n",
    "AliHesap = {\n",
    "    'ad': 'Ali Turan',\n",
    "    'hesapNo': '12345678',\n",
    "    'bakiye': 2000,\n",
    "    'ekHesap': 1000\n",
    "}\n",
    "\n",
    "def paraCek(hesap, miktar):\n",
    "    print(f\"Merhaba {hesap['ad']}\")\n",
    "\n",
    "    if (hesap['bakiye'] >= miktar):\n",
    "        hesap['bakiye'] -= miktar \n",
    "        print('paranızı alabilirsiniz.')\n",
    "        bakiyeSorgula(hesap)\n",
    "    else:\n",
    "        toplam = hesap['bakiye'] + hesap['ekHesap']\n",
    "\n",
    "        if (toplam >= miktar):\n",
    "            ekHesapKullanimi = input('ek hesap kullanılsın mı (e/h)')\n",
    "\n",
    "            if ekHesapKullanimi == 'e':\n",
    "                ekhesapKullanilacakMiktar = miktar - hesap['bakiye']\n",
    "                hesap['bakiye'] = 0\n",
    "                hesap['ekHesap'] -= ekhesapKullanilacakMiktar\n",
    "                print('paranızı alabilirsiniz.')\n",
    "                bakiyeSorgula(hesap)\n",
    "            else:\n",
    "                print(f\"{hesap['hesapNo']} nolu hesabınızda {hesap['bakiye']} bulunmaktadır.\")\n",
    "        else:\n",
    "            print('üzgünüz bakiye yetersiz')\n",
    "            bakiyeSorgula(hesap)\n",
    "\n",
    "\n",
    "def bakiyeSorgula(hesap):\n",
    "    print(f\"{hesap['hesapNo']} nolu hesabınızda {hesap['bakiye']} TL bulunmaktadır. Ek hesap limitiniz ise {hesap['ekHesap']} TL bulunmaktadır.\")\n",
    "\n",
    "paraCek(SadikHesap, 3000)\n",
    "\n",
    "print('*****************')\n",
    "\n",
    "paraCek(SadikHesap, 2000)"
   ]
  }
 ],
 "metadata": {
  "kernelspec": {
   "display_name": "Python 3",
   "language": "python",
   "name": "python3"
  },
  "language_info": {
   "codemirror_mode": {
    "name": "ipython",
    "version": 3
   },
   "file_extension": ".py",
   "mimetype": "text/x-python",
   "name": "python",
   "nbconvert_exporter": "python",
   "pygments_lexer": "ipython3",
   "version": "3.11.8"
  }
 },
 "nbformat": 4,
 "nbformat_minor": 2
}
