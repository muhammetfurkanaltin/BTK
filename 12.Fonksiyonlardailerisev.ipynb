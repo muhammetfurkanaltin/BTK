{
 "cells": [
  {
   "cell_type": "markdown",
   "metadata": {},
   "source": [
    "# 12.1 iç içe fonksiyon kullanımı"
   ]
  },
  {
   "cell_type": "markdown",
   "metadata": {},
   "source": [
    "encapsulation"
   ]
  },
  {
   "cell_type": "code",
   "execution_count": 3,
   "metadata": {},
   "outputs": [
    {
     "name": "stdout",
     "output_type": "stream",
     "text": [
      "outer\n",
      "inner\n",
      "10 11\n"
     ]
    }
   ],
   "source": [
    "def outer(num1):\n",
    "    print(\"outer\")\n",
    "    def inner_increment(num1):\n",
    "        print(\"inner\")\n",
    "        return num1 + 1\n",
    "    num2 = inner_increment(num1)\n",
    "    print(num1, num2)\n",
    "outer(10)"
   ]
  },
  {
   "cell_type": "code",
   "execution_count": 5,
   "metadata": {},
   "outputs": [
    {
     "name": "stdout",
     "output_type": "stream",
     "text": [
      "120\n"
     ]
    }
   ],
   "source": [
    "def factorical(number):\n",
    "    if not isinstance(number, int):\n",
    "        raise TypeError(\"number must be an integer\")\n",
    "    \n",
    "    if not number >=0:\n",
    "        raise ValueError(\"number must be zero or positive\")\n",
    "    \n",
    "    def inner_factorial(number):\n",
    "        if number <= 1:\n",
    "            return 1\n",
    "        return number * inner_factorial(number- 1)\n",
    "    return inner_factorial(number)\n",
    "try:\n",
    "    print(factorical(5))\n",
    "except Exception as ex :\n",
    "    print(ex)\n"
   ]
  },
  {
   "cell_type": "markdown",
   "metadata": {},
   "source": [
    "# 12.2 Fonksiyondan Fonksiyon Döndürme"
   ]
  },
  {
   "cell_type": "code",
   "execution_count": 7,
   "metadata": {},
   "outputs": [
    {
     "name": "stdout",
     "output_type": "stream",
     "text": [
      "27\n"
     ]
    }
   ],
   "source": [
    "def usalma(number):\n",
    "    def inner(power):\n",
    "        return number ** power\n",
    "    return inner\n",
    "\n",
    "two = usalma(2)\n",
    "three = usalma(3)\n",
    "\n",
    "print(three(3))  #3-3"
   ]
  },
  {
   "cell_type": "code",
   "execution_count": 10,
   "metadata": {},
   "outputs": [
    {
     "name": "stdout",
     "output_type": "stream",
     "text": [
      "admin rolu product edit sayfasına bakabilir\n"
     ]
    }
   ],
   "source": [
    "def yetki_sorgula(page):\n",
    "    def inner(role):\n",
    "        if role == \"admin\":\n",
    "            return \"{0} rolu {1} sayfasına bakabilir\".format(role,page)\n",
    "        else:\n",
    "            return \"{0} rolun {1} sayfasına bakamaz\".format(role,page)\n",
    "    return inner  \n",
    "user1 = yetki_sorgula(\"product edit\")\n",
    "print(user1(\"admin\"))"
   ]
  },
  {
   "cell_type": "code",
   "execution_count": 14,
   "metadata": {},
   "outputs": [
    {
     "name": "stdout",
     "output_type": "stream",
     "text": [
      "13\n",
      "60\n"
     ]
    }
   ],
   "source": [
    "def islem(islem_adi):\n",
    "    def toplam(*args):\n",
    "        toplam = 0\n",
    "        for i in args:\n",
    "            toplam += i\n",
    "        return toplam\n",
    "    def carpma(*args):\n",
    "        carpim = 1\n",
    "        for i in args :\n",
    "            carpim *= i\n",
    "        return carpim\n",
    "    \n",
    "    if islem_adi == \"toplama\":\n",
    "        return toplam\n",
    "    else:\n",
    "        return carpma\n",
    "    \n",
    "toplama = islem(\"toplama\")\n",
    "print(toplama(1,3,4,5))\n",
    "\n",
    "carpma = islem(\"carpma\")\n",
    "print(carpma(1,3,4,5))"
   ]
  },
  {
   "cell_type": "markdown",
   "metadata": {},
   "source": [
    "# 12.3 Fonksiyonların Parametreleri"
   ]
  },
  {
   "cell_type": "code",
   "execution_count": 18,
   "metadata": {},
   "outputs": [
    {
     "name": "stdout",
     "output_type": "stream",
     "text": [
      "5\n",
      "2\n",
      "16\n",
      "5.0\n",
      "islem basarisiz\n"
     ]
    }
   ],
   "source": [
    "def toplama(a,b):\n",
    "    return a+b\n",
    "def cikarma(a,b):\n",
    "    return a-b\n",
    "def carpma(a,b):\n",
    "    return a*b\n",
    "def bolme(a,b):\n",
    "    return a/b\n",
    "def islem(f1,f2,f3,f4,islem_adi):\n",
    "\n",
    "    if islem_adi == \"toplama\":\n",
    "        print(f1(2,3))\n",
    "    elif islem_adi == \"cikarma\":\n",
    "        print(f2(5,3))\n",
    "    elif islem_adi == \"carpma\":\n",
    "        print(f3(4,4))\n",
    "    elif islem_adi == \"bolme\":\n",
    "        print(f4(10,2))\n",
    "    else:\n",
    "        print(\"islem basarisiz\")\n",
    "islem(toplama,cikarma,carpma,bolme,\"toplama\")\n",
    "islem(toplama,cikarma,carpma,bolme,\"cikarma\")\n",
    "islem(toplama,cikarma,carpma,bolme,\"carpma\")\n",
    "islem(toplama,cikarma,carpma,bolme,\"bolme\")\n",
    "islem(toplama,cikarma,carpma,bolme,\"bolmee\")"
   ]
  },
  {
   "cell_type": "markdown",
   "metadata": {},
   "source": [
    "# 12.4 Decorator Fonksiyonları\n"
   ]
  },
  {
   "cell_type": "code",
   "execution_count": 19,
   "metadata": {},
   "outputs": [
    {
     "name": "stdout",
     "output_type": "stream",
     "text": [
      "fonsiyonfan once islemler\n",
      "hello\n",
      "fonksiyondan sonraki islemler\n"
     ]
    }
   ],
   "source": [
    "def my_decorator(func):\n",
    "    def wrapper():\n",
    "        print(\"fonsiyonfan once islemler\")\n",
    "        func()\n",
    "        print(\"fonksiyondan sonraki islemler\")\n",
    "    return wrapper\n",
    "\n",
    "def sayHello():\n",
    "    print(\"hello\")\n",
    "\n",
    "sayHello = my_decorator(sayHello)\n",
    "\n",
    "sayHello()"
   ]
  },
  {
   "cell_type": "code",
   "execution_count": 25,
   "metadata": {},
   "outputs": [
    {
     "name": "stdout",
     "output_type": "stream",
     "text": [
      "fonsiyonfan once islemler\n",
      "hello ali\n",
      "fonksiyondan sonraki islemler\n"
     ]
    }
   ],
   "source": [
    "def my_decorator(func):\n",
    "    def wrapper(name):\n",
    "        print(\"fonsiyonfan once islemler\")\n",
    "        func(name)\n",
    "        print(\"fonksiyondan sonraki islemler\")\n",
    "    return wrapper\n",
    "\n",
    "@my_decorator\n",
    "\n",
    "def sayHello(name):\n",
    "    print(\"hello\",name)\n",
    "\n",
    "sayHello(\"ali\")"
   ]
  },
  {
   "cell_type": "code",
   "execution_count": 33,
   "metadata": {},
   "outputs": [
    {
     "name": "stdout",
     "output_type": "stream",
     "text": [
      "8.0\n",
      "fonksiyon 1.00032377243042 saniye sürdü\n",
      "24\n",
      "fonksiyon 1.000899076461792 saniye sürdü\n"
     ]
    }
   ],
   "source": [
    "import math\n",
    "import time\n",
    "\n",
    "def calculate_time(func):\n",
    "    def inner(*args,**kwargs):\n",
    "        start = time.time()\n",
    "        time.sleep(1)\n",
    "        func(*args,**kwargs)\n",
    "        finish=time.time()\n",
    "        print(\"fonksiyon \"+ str(finish-start)+\" saniye sürdü\")\n",
    "    return inner\n",
    "@calculate_time\n",
    "def usalma(a,b):\n",
    "\n",
    "    print(math.pow(a,b))\n",
    "@calculate_time\n",
    "\n",
    "def factorial(num):\n",
    "\n",
    "    print(math.factorial(num))\n",
    "\n",
    "\n",
    "\n",
    "usalma(2,3)\n",
    "factorial(4)"
   ]
  }
 ],
 "metadata": {
  "kernelspec": {
   "display_name": "Python 3",
   "language": "python",
   "name": "python3"
  },
  "language_info": {
   "codemirror_mode": {
    "name": "ipython",
    "version": 3
   },
   "file_extension": ".py",
   "mimetype": "text/x-python",
   "name": "python",
   "nbconvert_exporter": "python",
   "pygments_lexer": "ipython3",
   "version": "3.11.8"
  }
 },
 "nbformat": 4,
 "nbformat_minor": 2
}
