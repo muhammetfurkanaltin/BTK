{
 "cells": [
  {
   "cell_type": "markdown",
   "metadata": {},
   "source": [
    "# 15.1 Datetime"
   ]
  },
  {
   "cell_type": "code",
   "execution_count": 25,
   "metadata": {},
   "outputs": [
    {
     "name": "stdout",
     "output_type": "stream",
     "text": [
      "2024 25 Friday\n"
     ]
    }
   ],
   "source": [
    "from datetime import datetime\n",
    "\n",
    "simdi = datetime.now()\n",
    "\n",
    "result = simdi.year\n",
    "result = simdi.hour\n",
    "result = simdi.month\n",
    "\n",
    "result = datetime.ctime(simdi)\n",
    "\n",
    "result = datetime.strftime(simdi,\"%Y\")\n",
    "result = datetime.strftime(simdi,\"%X\")\n",
    "result = datetime.strftime(simdi,\"%d\")\n",
    "result = datetime.strftime(simdi,\"%Y %d %A\")\n",
    "\n",
    "print(result)"
   ]
  },
  {
   "cell_type": "code",
   "execution_count": 14,
   "metadata": {},
   "outputs": [
    {
     "name": "stdout",
     "output_type": "stream",
     "text": [
      "21\n",
      "Nisan\n",
      "2021\n"
     ]
    }
   ],
   "source": [
    "t = '21 Nisan 2021'\n",
    "gun, ay, yil = t.split()\n",
    "print(gun)\n",
    "print(ay)\n",
    "print(yil)"
   ]
  },
  {
   "cell_type": "code",
   "execution_count": 26,
   "metadata": {},
   "outputs": [
    {
     "name": "stdout",
     "output_type": "stream",
     "text": [
      "2021\n"
     ]
    }
   ],
   "source": [
    "from datetime import datetime\n",
    "t = '15 April 2021 hour 10:12:32'\n",
    "\n",
    "dt = datetime.strptime(t,'%d %B %Y hour %H:%M:%S')\n",
    "dt = dt.year\n",
    "\n",
    "\n",
    "print(dt)"
   ]
  },
  {
   "cell_type": "code",
   "execution_count": 28,
   "metadata": {},
   "outputs": [
    {
     "name": "stdout",
     "output_type": "stream",
     "text": [
      "2002-12-07 12:12:12\n"
     ]
    }
   ],
   "source": [
    "from datetime import datetime\n",
    "birthday = datetime(2002,12,7,12,12,12)\n",
    "print(birthday)"
   ]
  },
  {
   "cell_type": "markdown",
   "metadata": {},
   "source": [
    "timedelta\n"
   ]
  },
  {
   "cell_type": "code",
   "execution_count": 31,
   "metadata": {},
   "outputs": [
    {
     "name": "stdout",
     "output_type": "stream",
     "text": [
      "2024-10-15 18:37:38.656448\n"
     ]
    }
   ],
   "source": [
    "from datetime import datetime\n",
    "from datetime import timedelta\n",
    "simdi = datetime.now()\n",
    "birthday = datetime(2002,12,7,12,12,12)\n",
    "\n",
    "\n",
    "result = simdi - birthday\n",
    "result = simdi + timedelta(days=10)\n",
    "result = simdi - timedelta(days = 10)\n",
    "\n",
    "print(result)"
   ]
  },
  {
   "cell_type": "markdown",
   "metadata": {},
   "source": [
    "# 15.2-OS Modulu"
   ]
  },
  {
   "cell_type": "code",
   "execution_count": 46,
   "metadata": {},
   "outputs": [
    {
     "name": "stdout",
     "output_type": "stream",
     "text": [
      ".ipynb\n"
     ]
    }
   ],
   "source": [
    "import os\n",
    "import datetime\n",
    "\n",
    "result = dir(os)\n",
    "result = os.name\n",
    "\n",
    "##### Dizin Degiştirme #####\n",
    "\n",
    "#os.chdir(\"C:\\\\\")\n",
    "#oschdir(\"..\\..\")\n",
    "\n",
    "##### Klasor Degiştirme #####\n",
    "\n",
    "#os.mkdir(\"new\")\n",
    "#os.makedirs(\"new/newnew\")\n",
    "#os.rename(\"new\",\"yeni\")\n",
    "#os.rmdir(\"new\")\n",
    "#os.removedirs(\"newnew\")\n",
    "\n",
    "##### Listeleme #####\n",
    "\n",
    "#result =os.listdir()\n",
    "#result =os.listdir(\"C:\\\\\")\n",
    "#for dosya in os.listdir():\n",
    "#    if dosya.endswith(\".py\"):\n",
    "#        print(dosya)\n",
    "\n",
    "##### Etkin Dizin Öğrenme #####\n",
    "\n",
    "#result = os.getcwd\n",
    "\n",
    "#result = os.stat(\"Demo-DosyaYönetimi.py\")\n",
    "#result = result.st_size/1024\n",
    "#result = datetime.datetime.fromtimestamp(result.st_ctime) # olusturulma  tarihi\n",
    "#result = datetime.datetime.fromtimestamp(result.st_atime) # son erişilme tarihi\n",
    "#result = datetime.datetime.fromtimestamp(result.st_mtime) # degiştirilme tarihi\n",
    "\n",
    "\n",
    "#os.system(\"notepad.exe\")\n",
    "\n",
    "\n",
    "##### Path #####\n",
    "\n",
    "#result = os.path.abspath(\"15.IlerıSevıyePyModullerı.ipynb\")\n",
    "#result = os.path.exists(\"15.IlerıSevıyePyModullerı.ipynb\")\n",
    "#result = os.path.isdir(\"C:/python/BTK\")\n",
    "#result = os.path.isfile(\"C:/python/15.IlerıSevıyePyModullerı.ipynb\")\n",
    "#result = os.path.join(\"C:\\\\\",\"deneme\",\"deneme1\")\n",
    "#result = os.path.split(\"C:\\\\deneme\")\n",
    "#result = os.path.splitext(\"15.IlerıSevıyePyModullerı.ipynb\")\n",
    "#result = result[1]\n",
    "\n",
    "\n",
    "print(result)\n"
   ]
  },
  {
   "cell_type": "markdown",
   "metadata": {},
   "source": [
    "# 15.3 Regular Expression Modülü"
   ]
  },
  {
   "cell_type": "markdown",
   "metadata": {},
   "source": [
    "re.findall"
   ]
  },
  {
   "cell_type": "code",
   "execution_count": 4,
   "metadata": {},
   "outputs": [
    {
     "name": "stdout",
     "output_type": "stream",
     "text": [
      "1\n"
     ]
    }
   ],
   "source": [
    "import re\n",
    "\n",
    "result = dir(re)\n",
    "\n",
    "# re module\n",
    "\n",
    "str = \"Python Kursu: 40 saat\"\n",
    "\n",
    "result = re.findall(\"Python\",str)\n",
    "result = len(result)\n",
    "\n",
    "print(result)"
   ]
  },
  {
   "cell_type": "markdown",
   "metadata": {},
   "source": [
    "re.split"
   ]
  },
  {
   "cell_type": "code",
   "execution_count": 5,
   "metadata": {},
   "outputs": [
    {
     "name": "stdout",
     "output_type": "stream",
     "text": [
      "['Python', 'Kursu:', '40', 'saat']\n"
     ]
    }
   ],
   "source": [
    "import re\n",
    "\n",
    "str = \"Python Kursu: 40 saat\"\n",
    "\n",
    "result = re.split(\" \", str)\n",
    "\n",
    "print(result)\n"
   ]
  },
  {
   "cell_type": "markdown",
   "metadata": {},
   "source": [
    "re.sub"
   ]
  },
  {
   "cell_type": "code",
   "execution_count": 7,
   "metadata": {},
   "outputs": [
    {
     "name": "stdout",
     "output_type": "stream",
     "text": [
      "Python-Kursu:-40-saat\n"
     ]
    }
   ],
   "source": [
    "import re\n",
    "\n",
    "str = \"Python Kursu: 40 saat\"\n",
    "\n",
    "result = re.sub(\"\\s\",\"-\",str)\n",
    "\n",
    "print(result)\n"
   ]
  },
  {
   "cell_type": "markdown",
   "metadata": {},
   "source": [
    "re.search\n"
   ]
  },
  {
   "cell_type": "code",
   "execution_count": 12,
   "metadata": {},
   "outputs": [
    {
     "name": "stdout",
     "output_type": "stream",
     "text": [
      "Python\n"
     ]
    }
   ],
   "source": [
    "import re\n",
    "\n",
    "str = \"Python Kursu: 40 saat\"\n",
    "\n",
    "result = re.search(\"Python\",str)\n",
    "\n",
    "result = result.span()\n",
    "result = result.start()\n",
    "result = result.end()\n",
    "result = result.group()\n",
    "result = result.string()\n",
    "\n",
    "print(result)"
   ]
  },
  {
   "cell_type": "markdown",
   "metadata": {},
   "source": [
    "https://www.w3schools.com/js/js_regexp.asp"
   ]
  },
  {
   "cell_type": "markdown",
   "metadata": {},
   "source": [
    "# 15.4 Json Module"
   ]
  },
  {
   "cell_type": "markdown",
   "metadata": {},
   "source": [
    "Json string to Dict"
   ]
  },
  {
   "cell_type": "code",
   "execution_count": 25,
   "metadata": {},
   "outputs": [
    {
     "name": "stdout",
     "output_type": "stream",
     "text": [
      "{'name': 'Furkan', 'languages': ['python', 'C++']}\n",
      "Furkan\n"
     ]
    }
   ],
   "source": [
    "import json\n",
    "\n",
    "person_string = '{\"name\" : \"Furkan\", \"languages\" : [\"python\",\"C++\"]}'\n",
    "\n",
    "#result = json.loads(person_string)\n",
    "#result = result[\"name\"]\n",
    "#result = result[\"languages\"]\n",
    "\n",
    "with open(\"person.json\") as f:\n",
    "    data = json.load(f)\n",
    "    print(data)\n",
    "    print(data[\"name\"])\n",
    "\n"
   ]
  },
  {
   "cell_type": "markdown",
   "metadata": {},
   "source": [
    "Dict to Json String"
   ]
  },
  {
   "cell_type": "code",
   "execution_count": 29,
   "metadata": {},
   "outputs": [
    {
     "name": "stdout",
     "output_type": "stream",
     "text": [
      "{\"name\": \"Furkan\", \"languages\": [\"python\", \"C++\"]}\n"
     ]
    }
   ],
   "source": [
    "person_dict = {\n",
    "    \"name\":\"Furkan\",\n",
    "    \"languages\" : [\"python\",\"C++\"]\n",
    "}\n",
    "\n",
    "result = json.dumps(person_dict)\n",
    "print(result)\n",
    "\n",
    "with open(\"person.json\",\"w\") as f :\n",
    "    json.dump(person_dict, f)"
   ]
  },
  {
   "cell_type": "code",
   "execution_count": 31,
   "metadata": {},
   "outputs": [
    {
     "name": "stdout",
     "output_type": "stream",
     "text": [
      "{'name': 'Furkan', 'languages': ['python', 'C++']}\n",
      "{\n",
      "    \"languages\": [\n",
      "        \"python\",\n",
      "        \"C++\"\n",
      "    ],\n",
      "    \"name\": \"Furkan\"\n",
      "}\n"
     ]
    }
   ],
   "source": [
    "person_string = '{\"name\" : \"Furkan\", \"languages\" : [\"python\",\"C++\"]}'\n",
    "person_dict = {\"name\":\"Furkan\",\"languages\" : [\"python\",\"C++\"]}\n",
    "\n",
    "person_dict = json.loads(person_string)\n",
    "result = json.dumps(person_dict, indent = 4,sort_keys=True)\n",
    "print (person_dict)\n",
    "print (result)"
   ]
  },
  {
   "cell_type": "markdown",
   "metadata": {},
   "source": [
    "# 15.5 Demo-Json.py"
   ]
  },
  {
   "cell_type": "markdown",
   "metadata": {},
   "source": [
    "# 15.6 Requests Modulu"
   ]
  },
  {
   "cell_type": "code",
   "execution_count": 6,
   "metadata": {},
   "outputs": [
    {
     "name": "stdout",
     "output_type": "stream",
     "text": [
      "delectus aut autem\n",
      "quis ut nam facilis et officia qui\n",
      "fugiat veniam minus\n",
      "et porro tempora\n",
      "laboriosam mollitia et enim quasi adipisci quia provident illum\n",
      "qui ullam ratione quibusdam voluptatem quia omnis\n",
      "illo expedita consequatur quia in\n",
      "quo adipisci enim quam ut ab\n",
      "molestiae perspiciatis ipsa\n",
      "illo est ratione doloremque quia maiores aut\n",
      "vero rerum temporibus dolor\n",
      "ipsa repellendus fugit nisi\n",
      "et doloremque nulla\n",
      "repellendus sunt dolores architecto voluptatum\n",
      "ab voluptatum amet voluptas\n",
      "accusamus eos facilis sint et aut voluptatem\n",
      "quo laboriosam deleniti aut qui\n",
      "dolorum est consequatur ea mollitia in culpa\n",
      "molestiae ipsa aut voluptatibus pariatur dolor nihil\n",
      "ullam nobis libero sapiente ad optio sint\n"
     ]
    }
   ],
   "source": [
    "import requests\n",
    "import json\n",
    "\n",
    "result = requests.get(\"https://jsonplaceholder.typicode.com/todos\")\n",
    "result = json.loads(result.text)\n",
    "\n",
    "for i in result :\n",
    "    if i [\"userId\"]== 1:\n",
    "        print(i[\"title\"])"
   ]
  },
  {
   "cell_type": "markdown",
   "metadata": {},
   "source": [
    "# 15.7  Demo-Exchange.py"
   ]
  },
  {
   "cell_type": "markdown",
   "metadata": {},
   "source": [
    "# 15.8 Demo-Rest_Api.py"
   ]
  }
 ],
 "metadata": {
  "kernelspec": {
   "display_name": "Python 3",
   "language": "python",
   "name": "python3"
  },
  "language_info": {
   "codemirror_mode": {
    "name": "ipython",
    "version": 3
   },
   "file_extension": ".py",
   "mimetype": "text/x-python",
   "name": "python",
   "nbconvert_exporter": "python",
   "pygments_lexer": "ipython3",
   "version": "3.11.8"
  }
 },
 "nbformat": 4,
 "nbformat_minor": 2
}
