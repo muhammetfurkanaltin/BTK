{
 "cells": [
  {
   "cell_type": "markdown",
   "metadata": {},
   "source": [
    "# 19.1 Numpy nedir"
   ]
  },
  {
   "cell_type": "code",
   "execution_count": null,
   "metadata": {},
   "outputs": [
    {
     "name": "stdout",
     "output_type": "stream",
     "text": [
      "<class 'list'>\n",
      "<class 'numpy.ndarray'>\n",
      "[[1, 2, 3], [4, 5, 6], [7, 8, 9]]\n",
      "[[1 2 3]\n",
      " [4 5 6]\n",
      " [7 8 9]]\n"
     ]
    }
   ],
   "source": [
    "import numpy as np\n",
    "\n",
    "# python list\n",
    "\n",
    "py_list = [1,2,3,4,5,6,7,8,9]\n",
    "\n",
    "#numpy array\n",
    "\n",
    "np_array = np.array([1,2,3,4,5,6,7,8,9])\n",
    "\n",
    "print (type(py_list))\n",
    "print (type(np_array))\n",
    "\n",
    "py_multi = [[1,2,3],[4,5,6],[7,8,9]]\n",
    "np_multi = np_array.reshape(3,3)\n",
    "\n",
    "print (py_multi)\n",
    "print (np_multi)\n",
    "\n"
   ]
  },
  {
   "cell_type": "markdown",
   "metadata": {},
   "source": [
    "# 19.2 Numpy dizileri ile Çalısma"
   ]
  },
  {
   "cell_type": "code",
   "execution_count": 23,
   "metadata": {},
   "outputs": [
    {
     "name": "stdout",
     "output_type": "stream",
     "text": [
      "[ 45 145 245 345 445]\n",
      "2\n"
     ]
    }
   ],
   "source": [
    "\n",
    "result = np.array([1,3,5,7,9])\n",
    "result = np.arange(1,10)\n",
    "result = np.arange(10,100,3)\n",
    "result = np.zeros(10)\n",
    "result = np.ones(10)\n",
    "result = np.linspace(0,100,5)\n",
    "result = np.linspace(0,5,5)\n",
    "result = np.random.randint(0,10)\n",
    "result = np.random.randint(20)\n",
    "result = np.random.randint(1,10,3)\n",
    "result = np.random.rand(5)\n",
    "result = np.random.randn(5)\n",
    "\n",
    "np_array = np.arange (50)\n",
    "np_multi = np_array.reshape(5,10)\n",
    "print(np_multi.sum(axis=1))\n",
    "\n",
    "rnd_numbers = np.random.randint(1,100,10)\n",
    "result = rnd_numbers.max()\n",
    "result = rnd_numbers.min()\n",
    "result = rnd_numbers.mean()\n",
    "result = rnd_numbers.argmax()\n",
    "\n",
    "\n",
    "\n",
    "print(result)"
   ]
  },
  {
   "cell_type": "markdown",
   "metadata": {},
   "source": [
    "# 19.3 Numpy Dizilerinin Indekslenmesi"
   ]
  },
  {
   "cell_type": "code",
   "execution_count": 35,
   "metadata": {},
   "outputs": [
    {
     "name": "stdout",
     "output_type": "stream",
     "text": [
      "[[ 0  5]\n",
      " [15 20]]\n",
      "[0 1 2 3 4 5 6 7 8 9]\n",
      "[20  1  2  3  4  5  6  7  8  9]\n"
     ]
    }
   ],
   "source": [
    "numberss = np.array([0,5,10,15,20,25,50,75])\n",
    "result   = numberss[5]\n",
    "result   = numberss[-1]\n",
    "result   = numberss[0:3]\n",
    "\n",
    "\n",
    "numberss2 = np.array([[0,5,10],[15,20,25],[50,75,85]])\n",
    "result = numberss2[0]\n",
    "result = numberss2[2]\n",
    "result = numberss2[0,2]\n",
    "result = numberss2[2,1]\n",
    "result = numberss2[:,2]\n",
    "result = numberss2[:,0]\n",
    "result = numberss2[:2,:2]\n",
    "\n",
    "print(result)\n",
    "\n",
    "arr1 = np.arange(0,10)\n",
    "#arr2 = arr1 #referans\n",
    "arr2 = arr1.copy()\n",
    "arr2[0] = 20\n",
    "\n",
    "print(arr1)\n",
    "print(arr2)"
   ]
  },
  {
   "cell_type": "markdown",
   "metadata": {},
   "source": [
    "# 19.4 Numpy Dizi Operasyonları"
   ]
  },
  {
   "cell_type": "code",
   "execution_count": null,
   "metadata": {},
   "outputs": [
    {
     "name": "stdout",
     "output_type": "stream",
     "text": [
      "[18 37 33 17 55 83]\n",
      "[40 54 66 43 18 30]\n",
      "[[18 37 33]\n",
      " [17 55 83]]\n",
      "[[40 54 66]\n",
      " [43 18 30]]\n",
      "[ True False False False False False]\n"
     ]
    }
   ],
   "source": [
    "numbers1 = np.random.randint(10,100,6)\n",
    "numbers2 = np.random.randint(10,100,6)\n",
    "print(numbers1)\n",
    "print(numbers2)\n",
    "\n",
    "result = numbers1 + numbers2\n",
    "result = numbers1 + 10\n",
    "result = numbers1 - numbers2\n",
    "result = numbers1 - 10\n",
    "result = numbers1 * numbers2\n",
    "result = numbers1 * 10\n",
    "result = numbers1 / numbers2\n",
    "result = numbers1 / 10\n",
    "\n",
    "result = np.sin(numbers1)\n",
    "result = np.cos(numbers1)\n",
    "result = np.sqrt(numbers1)\n",
    "result = np.log(numbers1)\n",
    "\n",
    "mnumbers1 = numbers1.reshape(2,3)\n",
    "mnumbers2 = numbers2.reshape(2,3)\n",
    "\n",
    "print (mnumbers1)\n",
    "print (mnumbers2)\n",
    "\n",
    "result = np.vstack((mnumbers1,mnumbers2))\n",
    "result = np.hstack((mnumbers1,mnumbers2))\n",
    "\n",
    "result = numbers1 >=50\n",
    "result = numbers1 % 2 == 0\n",
    "\n",
    "print(result)"
   ]
  },
  {
   "cell_type": "markdown",
   "metadata": {},
   "source": [
    "# 19.5 Demo-Numpy"
   ]
  },
  {
   "cell_type": "code",
   "execution_count": 47,
   "metadata": {},
   "outputs": [
    {
     "name": "stdout",
     "output_type": "stream",
     "text": [
      "[10 15 30 45 60]\n"
     ]
    }
   ],
   "source": [
    "result = np.array([10,15,30,45,60])\n",
    "print(result)"
   ]
  },
  {
   "cell_type": "code",
   "execution_count": 48,
   "metadata": {},
   "outputs": [
    {
     "name": "stdout",
     "output_type": "stream",
     "text": [
      "[ 5  6  7  8  9 10 11 12 13 14]\n"
     ]
    }
   ],
   "source": [
    "result = np.arange(5,15)\n",
    "print(result)"
   ]
  },
  {
   "cell_type": "code",
   "execution_count": 49,
   "metadata": {},
   "outputs": [
    {
     "name": "stdout",
     "output_type": "stream",
     "text": [
      "[50 55 60 65 70 75 80 85 90 95]\n"
     ]
    }
   ],
   "source": [
    "result = np.arange(50,100,5)\n",
    "print (result)"
   ]
  },
  {
   "cell_type": "code",
   "execution_count": 51,
   "metadata": {},
   "outputs": [
    {
     "name": "stdout",
     "output_type": "stream",
     "text": [
      "[0. 0. 0. 0. 0. 0. 0. 0. 0. 0.]\n"
     ]
    }
   ],
   "source": [
    "result = np.zeros(10)\n",
    "print(result)"
   ]
  },
  {
   "cell_type": "code",
   "execution_count": 52,
   "metadata": {},
   "outputs": [
    {
     "name": "stdout",
     "output_type": "stream",
     "text": [
      "[1. 1. 1. 1. 1. 1. 1. 1. 1. 1.]\n"
     ]
    }
   ],
   "source": [
    "result = np.ones(10)\n",
    "print(result)"
   ]
  },
  {
   "cell_type": "code",
   "execution_count": 56,
   "metadata": {},
   "outputs": [
    {
     "name": "stdout",
     "output_type": "stream",
     "text": [
      "[  0.  25.  50.  75. 100.]\n"
     ]
    }
   ],
   "source": [
    "result = np.linspace(0,100,5)\n",
    "print(result)"
   ]
  },
  {
   "cell_type": "code",
   "execution_count": 54,
   "metadata": {},
   "outputs": [
    {
     "name": "stdout",
     "output_type": "stream",
     "text": [
      "[21 20 27 16 16]\n"
     ]
    }
   ],
   "source": [
    "result = np.random.randint(10,30,5)\n",
    "print(result)\n"
   ]
  },
  {
   "cell_type": "code",
   "execution_count": 255,
   "metadata": {},
   "outputs": [
    {
     "name": "stdout",
     "output_type": "stream",
     "text": [
      "[ 0.28585107 -0.31324179  0.23776675 -0.31797734  0.2717032   0.09971207\n",
      "  1.65643983  1.54580689 -0.63784824  0.17095717]\n"
     ]
    }
   ],
   "source": [
    "\n",
    "result = np.linspace(-1,1,10)\n",
    "result = np.random.randn(10)\n",
    "print(result)"
   ]
  },
  {
   "cell_type": "code",
   "execution_count": null,
   "metadata": {},
   "outputs": [
    {
     "name": "stdout",
     "output_type": "stream",
     "text": [
      "[[42 36 30 46 33]\n",
      " [45 37 20 19 19]\n",
      " [16 39 43 12 43]]\n"
     ]
    }
   ],
   "source": [
    "result = np.random.randint(10,50,15).reshape(3,5)\n",
    "print (result)"
   ]
  },
  {
   "cell_type": "code",
   "execution_count": 257,
   "metadata": {},
   "outputs": [
    {
     "name": "stdout",
     "output_type": "stream",
     "text": [
      "[[10 20 12 19 24]\n",
      " [15 12 38 12 27]\n",
      " [11 43 21 11 34]]\n",
      "[ 85 104 120]\n",
      "[36 75 71 42 85]\n"
     ]
    }
   ],
   "source": [
    "matris = np.random.randint(10,50,15).reshape(3,5)\n",
    "rowTotal = matris.sum(axis=1)\n",
    "colTotal = matris.sum(axis=0)\n",
    "print(matris)\n",
    "print(rowTotal)\n",
    "print(colTotal)\n"
   ]
  },
  {
   "cell_type": "code",
   "execution_count": 261,
   "metadata": {},
   "outputs": [
    {
     "name": "stdout",
     "output_type": "stream",
     "text": [
      "[[25 20 14 21 40]\n",
      " [35 46 42 18 17]\n",
      " [37 23 10 17 24]]\n",
      "25.933333333333334\n"
     ]
    }
   ],
   "source": [
    "matris = np.random.randint(10,50,15).reshape(3,5)\n",
    "result = matris.max()\n",
    "result = matris.min()\n",
    "result = matris.mean()\n",
    "\n",
    "print(matris)\n",
    "print(result)"
   ]
  },
  {
   "cell_type": "code",
   "execution_count": 264,
   "metadata": {},
   "outputs": [
    {
     "name": "stdout",
     "output_type": "stream",
     "text": [
      "12\n"
     ]
    }
   ],
   "source": [
    "result = matris.argmax()\n",
    "result = matris.argmin()\n",
    "print(result)"
   ]
  }
 ],
 "metadata": {
  "kernelspec": {
   "display_name": "Python 3",
   "language": "python",
   "name": "python3"
  },
  "language_info": {
   "codemirror_mode": {
    "name": "ipython",
    "version": 3
   },
   "file_extension": ".py",
   "mimetype": "text/x-python",
   "name": "python",
   "nbconvert_exporter": "python",
   "pygments_lexer": "ipython3",
   "version": "3.11.8"
  }
 },
 "nbformat": 4,
 "nbformat_minor": 2
}
