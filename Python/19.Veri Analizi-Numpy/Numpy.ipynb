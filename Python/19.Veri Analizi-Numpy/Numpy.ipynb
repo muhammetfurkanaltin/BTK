{
 "cells": [
  {
   "cell_type": "markdown",
   "metadata": {},
   "source": [
    "# 19.1 Numpy nedir"
   ]
  },
  {
   "cell_type": "code",
   "execution_count": null,
   "metadata": {},
   "outputs": [
    {
     "name": "stdout",
     "output_type": "stream",
     "text": [
      "<class 'list'>\n",
      "<class 'numpy.ndarray'>\n",
      "[[1, 2, 3], [4, 5, 6], [7, 8, 9]]\n",
      "[[1 2 3]\n",
      " [4 5 6]\n",
      " [7 8 9]]\n"
     ]
    }
   ],
   "source": [
    "import numpy as np\n",
    "\n",
    "# python list\n",
    "\n",
    "py_list = [1,2,3,4,5,6,7,8,9]\n",
    "\n",
    "#numpy array\n",
    "\n",
    "np_array = np.array([1,2,3,4,5,6,7,8,9])\n",
    "\n",
    "print (type(py_list))\n",
    "print (type(np_array))\n",
    "\n",
    "py_multi = [[1,2,3],[4,5,6],[7,8,9]]\n",
    "np_multi = np_array.reshape(3,3)\n",
    "\n",
    "print (py_multi)\n",
    "print (np_multi)\n",
    "\n"
   ]
  },
  {
   "cell_type": "markdown",
   "metadata": {},
   "source": [
    "# 19.2 Numpy dizileri ile Çalısma"
   ]
  },
  {
   "cell_type": "code",
   "execution_count": 23,
   "metadata": {},
   "outputs": [
    {
     "name": "stdout",
     "output_type": "stream",
     "text": [
      "[ 45 145 245 345 445]\n",
      "2\n"
     ]
    }
   ],
   "source": [
    "\n",
    "result = np.array([1,3,5,7,9])\n",
    "result = np.arange(1,10)\n",
    "result = np.arange(10,100,3)\n",
    "result = np.zeros(10)\n",
    "result = np.ones(10)\n",
    "result = np.linspace(0,100,5)\n",
    "result = np.linspace(0,5,5)\n",
    "result = np.random.randint(0,10)\n",
    "result = np.random.randint(20)\n",
    "result = np.random.randint(1,10,3)\n",
    "result = np.random.rand(5)\n",
    "result = np.random.randn(5)\n",
    "\n",
    "np_array = np.arange (50)\n",
    "np_multi = np_array.reshape(5,10)\n",
    "print(np_multi.sum(axis=1))\n",
    "\n",
    "rnd_numbers = np.random.randint(1,100,10)\n",
    "result = rnd_numbers.max()\n",
    "result = rnd_numbers.min()\n",
    "result = rnd_numbers.mean()\n",
    "result = rnd_numbers.argmax()\n",
    "\n",
    "\n",
    "\n",
    "print(result)"
   ]
  },
  {
   "cell_type": "markdown",
   "metadata": {},
   "source": [
    "# 19.3 Numpy Dizilerinin Indekslenmesi"
   ]
  },
  {
   "cell_type": "code",
   "execution_count": null,
   "metadata": {},
   "outputs": [
    {
     "name": "stdout",
     "output_type": "stream",
     "text": [
      "[[ 0  5]\n",
      " [15 20]]\n",
      "[20  1  2  3  4  5  6  7  8  9]\n",
      "[20  1  2  3  4  5  6  7  8  9]\n"
     ]
    }
   ],
   "source": [
    "numberss = np.array([0,5,10,15,20,25,50,75])\n",
    "result   = numberss[5]\n",
    "result   = numberss[-1]\n",
    "result   = numberss[0:3]\n",
    "\n",
    "\n",
    "numberss2 = np.array([[0,5,10],[15,20,25],[50,75,85]])\n",
    "result = numberss2[0]\n",
    "result = numberss2[2]\n",
    "result = numberss2[0,2]\n",
    "result = numberss2[2,1]\n",
    "result = numberss2[:,2]\n",
    "result = numberss2[:,0]\n",
    "result = numberss2[:2,:2]\n",
    "\n",
    "print(result)\n",
    "\n",
    "arr1 = np.arange(0,10)\n",
    "#arr2 = arr1 #referans\n",
    "arr2 = arr1.copy()\n",
    "arr2[0] = 20\n",
    "\n",
    "print(arr1)\n",
    "print(arr2)"
   ]
  }
 ],
 "metadata": {
  "kernelspec": {
   "display_name": "Python 3",
   "language": "python",
   "name": "python3"
  },
  "language_info": {
   "codemirror_mode": {
    "name": "ipython",
    "version": 3
   },
   "file_extension": ".py",
   "mimetype": "text/x-python",
   "name": "python",
   "nbconvert_exporter": "python",
   "pygments_lexer": "ipython3",
   "version": "3.11.8"
  }
 },
 "nbformat": 4,
 "nbformat_minor": 2
}
