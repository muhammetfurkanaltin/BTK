{
 "cells": [
  {
   "cell_type": "markdown",
   "metadata": {},
   "source": [
    "# 20.2 Veri Analizi Pandas"
   ]
  },
  {
   "cell_type": "code",
   "execution_count": 41,
   "metadata": {},
   "outputs": [],
   "source": [
    "import pandas as pd \n",
    "import numpy as np"
   ]
  },
  {
   "cell_type": "code",
   "execution_count": 42,
   "metadata": {},
   "outputs": [
    {
     "name": "stdout",
     "output_type": "stream",
     "text": [
      "Series([], dtype: object)\n"
     ]
    }
   ],
   "source": [
    "pandas_series = pd.Series()\n",
    "\n",
    "print(pandas_series)"
   ]
  },
  {
   "cell_type": "code",
   "execution_count": 43,
   "metadata": {},
   "outputs": [
    {
     "name": "stdout",
     "output_type": "stream",
     "text": [
      "0    98\n",
      "1    41\n",
      "2    18\n",
      "3    26\n",
      "4    58\n",
      "5    22\n",
      "dtype: int32\n"
     ]
    }
   ],
   "source": [
    "# data \n",
    "\n",
    "numbers =[20,30,40,50]\n",
    "letters = [\"a\",\"b\",\"c\",\"d\",20]\n",
    "scalar = 5\n",
    "dict = {\"a\":10,\"b\":20,\"c\":30,\"d\":40}\n",
    "random_numbers = np.random.randint(10,100,6)\n",
    "\n",
    "pandas_series = pd.Series()\n",
    "pandas_series = pd.Series(numbers)\n",
    "pandas_series = pd.Series(letters)\n",
    "pandas_series = pd.Series(scalar)\n",
    "pandas_series = pd.Series(5,[0,1,2,3])\n",
    "pandas_series = pd.Series(numbers,[\"a\",\"b\",\"c\",\"d\"])\n",
    "pandas_series = pd.Series(dict)\n",
    "pandas_series = pd.Series(random_numbers)\n",
    "\n",
    "print(pandas_series)\n",
    "\n"
   ]
  },
  {
   "cell_type": "code",
   "execution_count": 44,
   "metadata": {},
   "outputs": [
    {
     "name": "stdout",
     "output_type": "stream",
     "text": [
      "a    20\n",
      "b    30\n",
      "c    40\n",
      "d    50\n",
      "dtype: int64\n",
      "a    True\n",
      "b    True\n",
      "c    True\n",
      "d    True\n",
      "dtype: bool\n"
     ]
    }
   ],
   "source": [
    "\n",
    "pandas_series = pd.Series([20,30,40,50],[\"a\",\"b\",\"c\",\"d\"])\n",
    "\n",
    "result = pandas_series[:2]\n",
    "result = pandas_series[-2:]\n",
    "result = pandas_series['a']\n",
    "result = pandas_series['d']\n",
    "result = pandas_series[['a','d']]\n",
    "result = pandas_series.ndim\n",
    "result = pandas_series.dtype\n",
    "result = pandas_series.shape\n",
    "result = pandas_series.sum()\n",
    "result = pandas_series.max()\n",
    "result = pandas_series.min()\n",
    "result = pandas_series + pandas_series\n",
    "result = np.sqrt(pandas_series)\n",
    "\n",
    "result = pandas_series >= 50 \n",
    "result = pandas_series % 2 == 0\n",
    "\n",
    "\n",
    "\n",
    "\n",
    "\n",
    "print(pandas_series)\n",
    "print(result)\n"
   ]
  },
  {
   "cell_type": "code",
   "execution_count": 45,
   "metadata": {},
   "outputs": [
    {
     "name": "stdout",
     "output_type": "stream",
     "text": [
      "60.0\n"
     ]
    }
   ],
   "source": [
    "opel2018 = pd.Series([20,30,40,10],[\"astra\",\"corsa\",\"mokka\",\"insignia\"])\n",
    "opel2019 = pd.Series([40,30,20,10],[\"astra\",\"corsa\",\"gradland\",\"insignia\"])\n",
    "\n",
    "total = opel2018 + opel2019 \n",
    "print (total[\"astra\"])"
   ]
  },
  {
   "cell_type": "markdown",
   "metadata": {},
   "source": [
    "# 20.3 DataFrames"
   ]
  },
  {
   "cell_type": "code",
   "execution_count": null,
   "metadata": {},
   "outputs": [
    {
     "name": "stdout",
     "output_type": "stream",
     "text": [
      "   0\n",
      "0  1\n",
      "1  2\n",
      "2  3\n",
      "3  4\n"
     ]
    }
   ],
   "source": [
    "df = pd.DataFrame()\n",
    "df = pd.DataFrame([1,2,3,4])\n",
    "\n",
    "print (df)"
   ]
  },
  {
   "cell_type": "code",
   "execution_count": 3,
   "metadata": {},
   "outputs": [
    {
     "name": "stdout",
     "output_type": "stream",
     "text": [
      "   apples  oranges\n",
      "0       3        0\n",
      "1       2        3\n",
      "2       0        7\n",
      "3       1        2\n"
     ]
    }
   ],
   "source": [
    "import pandas as pd \n",
    "\n",
    "\n",
    "s1 = pd.Series([3,2,0,1])\n",
    "s2 = pd.Series([0,3,7,2])\n",
    "\n",
    "data = dict (apples = s1 , oranges = s2)\n",
    "\n",
    "df = pd.DataFrame(data)\n",
    "\n",
    "print (df)"
   ]
  },
  {
   "cell_type": "code",
   "execution_count": 16,
   "metadata": {},
   "outputs": [
    {
     "name": "stdout",
     "output_type": "stream",
     "text": [
      "     name  grade\n",
      "1   Ahmet     50\n",
      "2  Serhat     50\n",
      "3  Yagmur     40\n",
      "4     Ali     80\n"
     ]
    }
   ],
   "source": [
    "list = [[\"Ahmet\",50],[\"Serhat\",50],[\"Yagmur\",40],[\"Ali\",80]]\n",
    "df = pd.DataFrame(list , index = [1,2,3,4] , columns = [\"name\",\"grade\"])\n",
    "\n",
    "print (df)\n"
   ]
  },
  {
   "cell_type": "code",
   "execution_count": 15,
   "metadata": {},
   "outputs": [
    {
     "name": "stdout",
     "output_type": "stream",
     "text": [
      "     Name  Grade\n",
      "0   Ahmet     50\n",
      "1  Serhat     60\n",
      "2  Yagmur     70\n",
      "3     Ali     80\n"
     ]
    }
   ],
   "source": [
    "dict = {\"Name\": [\"Ahmet\",\"Serhat\",\"Yagmur\",\"Ali\"], \"Grade\" : [50,60,70,80]} \n",
    "df = pd.DataFrame(dict)\n",
    "print (df)\n"
   ]
  },
  {
   "cell_type": "code",
   "execution_count": 14,
   "metadata": {},
   "outputs": [
    {
     "name": "stdout",
     "output_type": "stream",
     "text": [
      "     Name  Grade\n",
      "0   Ahmet     50\n",
      "1  Serhat     60\n",
      "2  Yagmur     70\n",
      "3     Ali     80\n"
     ]
    }
   ],
   "source": [
    "dict_list = [\n",
    "    {\"Name\": \"Ahmet\", \"Grade\":50},\n",
    "    {\"Name\": \"yagmur\", \"Grade\":70},\n",
    "    {\"Name\": \"Ali\", \"Grade\":90},\n",
    "    {\"Name\": \"Serhat\", \"Grade\":80}\n",
    "]\n",
    "\n",
    "\n",
    "df = pd.DataFrame(dict)\n",
    "print (df)\n"
   ]
  },
  {
   "cell_type": "markdown",
   "metadata": {},
   "source": [
    "# 20.4 Farklı Dosya Tiplerinden Veri Okuma"
   ]
  },
  {
   "cell_type": "code",
   "execution_count": 18,
   "metadata": {},
   "outputs": [
    {
     "name": "stdout",
     "output_type": "stream",
     "text": [
      "     Name  Grade\n",
      "0   Ahmet     50\n",
      "1  yagmur     70\n",
      "2     Ali     90\n",
      "3  Serhat     80\n"
     ]
    }
   ],
   "source": [
    "df = pd.read_json('sample.json',encoding=\"UTF-8\")\n",
    "\n",
    "print(df)"
   ]
  },
  {
   "cell_type": "markdown",
   "metadata": {},
   "source": [
    "# 20.5 DataFrame ile Satır Sutun Seçimleri"
   ]
  },
  {
   "cell_type": "code",
   "execution_count": null,
   "metadata": {},
   "outputs": [
    {
     "name": "stdout",
     "output_type": "stream",
     "text": [
      "    Column2   Column1\n",
      "A  0.603407 -1.381192\n",
      "B  0.243403  0.456578\n",
      "    Column1   Column2   Column3   Column4\n",
      "A -1.381192  0.603407  0.477714 -2.668982\n",
      "B  0.456578  0.243403  0.834241 -0.238150\n",
      "C  0.925622 -1.200521  0.156689 -2.342814\n"
     ]
    }
   ],
   "source": [
    "import pandas as pd\n",
    "from numpy.random import randn \n",
    "\n",
    "df = pd.DataFrame(randn(3,3) , index = [\"A\" , \"B\" , \"C\"] , columns = [\"Column1\",\"Column2\",\"Column3\"])\n",
    "\n",
    "result = df\n",
    "result = df[\"Column1\"]\n",
    "result = type(df[\"Column1\"])\n",
    "result = df[[\"Column1\",\"Column2\"]]\n",
    "\n",
    "#loc [\"row\",\"column\"] => loc[\"row\"] => loc[\":\",\"column\"]\n",
    "\n",
    "result = df.loc[\"A\"]\n",
    "result = type(df.loc[\"A\"])\n",
    "result = df.iloc[2]\n",
    "result = df.loc[:,[\"Column1\",\"Column2\"]]\n",
    "result = df.loc[:,\"Column1\":\"Column2\"]\n",
    "result = df.loc[:,:\"Column2\"]\n",
    "result = df.loc[\"A\":\"B\",:\"Column2\"]\n",
    "result = df.loc[:\"B\",:\"Column2\"]\n",
    "result = df.loc[\"A\",\"Column2\"]\n",
    "result = df.loc[[\"A\",\"B\"],[\"Column2\",\"Column1\"]]\n",
    "\n",
    "df[\"Column4\"] = pd.Series(randn(3),[\"A\",\"B\",\"C\"])\n",
    "df[\"Column5\"] = df[\"Column1\"] + df[\"Column3\"]\n",
    "\n",
    "df.drop(\"Column5\" , axis=1 , inplace = True)\n",
    "\n",
    "print (result)\n",
    "print(df)\n"
   ]
  },
  {
   "cell_type": "markdown",
   "metadata": {},
   "source": [
    "# 20.6 DataFrame ile Filtreleme\n"
   ]
  },
  {
   "cell_type": "code",
   "execution_count": 26,
   "metadata": {},
   "outputs": [
    {
     "name": "stdout",
     "output_type": "stream",
     "text": [
      "    Column1  Column2\n",
      "0        89       84\n",
      "1        10       95\n",
      "2        75       11\n",
      "4        91       73\n",
      "6        86       68\n",
      "7        56       94\n",
      "8        46       68\n",
      "9        51       79\n",
      "10       12       91\n",
      "11       75       43\n",
      "13       42       69\n",
      "14       58       91\n"
     ]
    }
   ],
   "source": [
    "import pandas as pd\n",
    "import numpy as np\n",
    "\n",
    "data = np.random.randint(10,100,75).reshape(15,5)\n",
    "df = pd.DataFrame(data, columns=[\"Column1\",\"Column2\",\"Column3\",\"Column4\",\"Column5\"])\n",
    "\n",
    "result = df\n",
    "result = df.columns\n",
    "result = df.head()\n",
    "result = df.head(10)\n",
    "result = df.tail()\n",
    "result = df.tail(10)\n",
    "result = df[\"Column1\"].head()\n",
    "result = df.Column1.head()\n",
    "result = df[[\"Column1\",\"Column2\"]].head()\n",
    "result = df[5:15][[\"Column1\",\"Column2\"]].head()\n",
    "result = df[5:15][[\"Column1\",\"Column2\"]].tail()\n",
    "\n",
    "result = df > 50 \n",
    "result = df[df > 50]\n",
    "result = df[df % 2 == 0 ]\n",
    "result = df[df[\"Column1\"] > 50][[\"Column1\",\"Column2\"]]\n",
    "result = df[(df[\"Column1\"] > 50) & (df[\"Column1\"] <= 70)]\n",
    "result = df[(df[\"Column1\"] > 50) & (df[\"Column2\"] <= 70)]\n",
    "result = df[(df[\"Column1\"] > 50) | (df[\"Column2\"] <= 70)]\n",
    "result = df[(df[\"Column1\"] > 50) | (df[\"Column2\"] <= 70)][[\"Column1\",\"Column2\"]]\n",
    "result = df.query(\"Column1 >= 50 & Column1 % 2 == 0\")[[\"Column1\",\"Column2\"]]\n",
    "result = df.query(\"Column1 >= 50 | Column1 % 2 == 0\")[[\"Column1\",\"Column2\"]]\n",
    "\n",
    "\n",
    "\n",
    "print(result)"
   ]
  },
  {
   "cell_type": "markdown",
   "metadata": {},
   "source": [
    "# 20.7 Demo ImdbData.py\n"
   ]
  },
  {
   "cell_type": "markdown",
   "metadata": {},
   "source": [
    "# 20.8 DF ile Groupby kullanımı"
   ]
  },
  {
   "cell_type": "code",
   "execution_count": null,
   "metadata": {},
   "outputs": [],
   "source": [
    "import pandas as pd\n",
    "import numpy as np\n",
    "\n",
    "# Veriler\n",
    "personeller = {\n",
    "    'Çalışan': ['Ahmet Yılmaz','Can Ertürk','Hasan Korkmaz','Cenk Saymaz','Ali Turan','Rıza Ertürk','Mustafa Can'],\n",
    "    'Departman': ['İnsan Kaynakları','Bilgi İşlem','Muhasebe','İnsan Kaynakları','Bilgi İşlem','Muhasebe','İnsan Kaynakları'],\n",
    "    'Yaş': [30,25,45,50,23,34,42],\n",
    "    'Semt': ['Kadıköy','Tuzla','Maltepe','Tuzla','Maltepe','Tuzla','Kadıköy'],\n",
    "    'Maaş': [5000,3000,4000,3500,2750,6500,4500]\n",
    "}\n",
    "\n",
    "# DataFrame oluştur\n",
    "df = pd.DataFrame(personeller)\n",
    "try:\n",
    "    \"\"\"\"\"\n",
    "    result = df.groupby(\"Semt\").get_group(\"Kadıköy\")\n",
    "    result = df.groupby(\"Departman\").get_group(\"Muhasebe\")\n",
    "    result = df.groupby(\"Departman\").sum()\n",
    "    result = df.groupby(\"Departman\").mean()\n",
    "    result = df.groupby(\"Departman\")[\"Maaş\"].mean()\n",
    "    result = df.groupby(\"Semt\")[\"Yaş\"].mean()\n",
    "    result = df.groupby(\"Semt\")[\"Maaş\"].mean()\n",
    "    result = df.groupby(\"Semt\")[\"Çalışan\"].count()\n",
    "    result = df.groupby(\"Departman\")[\"Yaş\"].max()\n",
    "    result = df.groupby(\"Departman\")[\"Maaş\"].min()\n",
    "    result = df.groupby(\"Departman\")[\"Maaş\"].max()\n",
    "    result = df.groupby(\"Departman\")[\"Maaş\"].max()[\"Muhasebe\"]\n",
    "    result = df.groupby(\"Departman\").agg(np.mean)\n",
    "    \"\"\"\"\"\n",
    "    result = df.groupby(\"Departman\")[\"Maaş\"].agg([np.sum,np.mean,np.max,np.min]).loc[\"Muhasebe\"]\n",
    "    \n",
    "    print(result)\n",
    "\n",
    "except KeyError as e:\n",
    "    print(f\"Hata: {e}\")\n"
   ]
  },
  {
   "cell_type": "markdown",
   "metadata": {},
   "source": [
    "# 20.9 Kayıp ve Bozma Veri Analizi"
   ]
  },
  {
   "cell_type": "code",
   "execution_count": 40,
   "metadata": {},
   "outputs": [
    {
     "name": "stdout",
     "output_type": "stream",
     "text": [
      "     Column1    Column2    Column3    Column4\n",
      "a  27.000000  42.000000  89.000000  46.105263\n",
      "b  46.105263  46.105263  46.105263  30.000000\n",
      "c  44.000000  73.000000  64.000000  46.105263\n",
      "d  46.105263  46.105263  46.105263  51.000000\n",
      "e  43.000000  31.000000  65.000000  46.105263\n",
      "f  49.000000  57.000000  97.000000  30.000000\n",
      "g  46.105263  46.105263  46.105263  46.105263\n",
      "h  14.000000  22.000000  38.000000  10.000000\n"
     ]
    }
   ],
   "source": [
    "import pandas as pd\n",
    "import numpy as np\n",
    "\n",
    "data = np.random.randint(10,100,15).reshape(5,3)\n",
    "\n",
    "df = pd.DataFrame(data, index=[\"a\",\"c\",\"e\",\"f\",\"h\"] ,columns=[\"Column1\",\"Column2\",\"Column3\"])\n",
    "\n",
    "df = df.reindex([\"a\",\"b\",\"c\",\"d\",\"e\",\"f\",\"g\",\"h\"])\n",
    "\n",
    "newColumn = [np.nan,30,np.nan,51,np.nan,30,np.nan,10]\n",
    "df[\"Column4\"] = newColumn\n",
    "\n",
    "result = df \n",
    "result = df.drop(\"Column1\", axis=1)\n",
    "result = df.drop([\"Column1\",\"Column2\"], axis=1)\n",
    "result = df.drop(\"a\", axis=0)\n",
    "result = df.drop([\"a\",\"b\",\"c\"], axis=0)\n",
    "\n",
    "result = df.isnull()\n",
    "result = df.notnull()\n",
    "result = df.isnull().sum()\n",
    "result = df[df[\"Column1\"].isnull()]\n",
    "result = df[df[\"Column1\"].isnull()][\"Column1\"]\n",
    "result = df[df[\"Column1\"].notnull()][\"Column1\"]\n",
    "\n",
    "result = df.dropna() # axis => 0 satıra \n",
    "result = df.dropna(axis= 1) # axis => 1 sutüna\n",
    "result = df.dropna(how = \"any\")\n",
    "result = df.dropna(how = \"all\")\n",
    "result = df.dropna(subset = [\"Column1\" , \"Column2\"], how = \"all\")\n",
    "result = df.dropna(subset = [\"Column1\" , \"Column2\"], how = \"any\")\n",
    "result = df.dropna(thresh= 2 )\n",
    "result = df.dropna(thresh= 3 ) # en az sayıda normal veri\n",
    "\n",
    "result = df.fillna(value = \"no input\")\n",
    "result = df.fillna(value = 1 )\n",
    "\n",
    "def ortalama(df):\n",
    "    toplam = df.sum().sum()\n",
    "    adet = df.size - df.isnull().sum().sum()\n",
    "    return toplam / adet \n",
    "result = df.fillna(value= ortalama(df))\n",
    "\n",
    "print (result)"
   ]
  },
  {
   "cell_type": "markdown",
   "metadata": {},
   "source": [
    "# 20.10 String Fonksiyonları"
   ]
  },
  {
   "cell_type": "code",
   "execution_count": 53,
   "metadata": {},
   "outputs": [
    {
     "name": "stdout",
     "output_type": "stream",
     "text": [
      "            Name            Team  Number Position   Age Height  Weight  \\\n",
      "0  Avery Bradley  Boston Celtics     0.0       PG  25.0    6-2   180.0   \n",
      "1    Jae Crowder  Boston Celtics    99.0       SF  25.0    6-6   235.0   \n",
      "3    R.J. Hunter  Boston Celtics    28.0       SG  22.0    6-5   185.0   \n",
      "6  Jordan Mickey  Boston Celtics    55.0       PF  21.0    6-8   235.0   \n",
      "7   Kelly Olynyk  Boston Celtics    41.0        C  25.0    7-0   238.0   \n",
      "\n",
      "         College     Salary FirstName LastName  \n",
      "0          Texas  7730337.0     Avery  Bradley  \n",
      "1      Marquette  6796117.0       Jae  Crowder  \n",
      "3  Georgia State  1148640.0      R.J.   Hunter  \n",
      "6            LSU  1170960.0    Jordan   Mickey  \n",
      "7        Gonzaga  2165160.0     Kelly   Olynyk  \n"
     ]
    }
   ],
   "source": [
    "import pandas as pd\n",
    "\n",
    "data = pd.read_csv(\"nba.csv\")\n",
    "data.dropna(inplace= True)\n",
    "\n",
    "#data[\"Name\"] = data[\"Name\"].str.upper()\n",
    "#data[\"Name\"] = data[\"Name\"].str.lower()\n",
    "#data[\"index\"]= data[\"Name\"].str.find(\"a\")\n",
    "#data = data[data.Name.str.contains(\"Jordan\")]\n",
    "#data = data.Team.str.replace(\" \", \"-\" )\n",
    "data[['FirstName','LastName']] = data['Name'].loc[data['Name'].str.split().str.len()==2].str.split(expand = True)\n",
    "\n",
    "print(data.head(5))"
   ]
  },
  {
   "cell_type": "markdown",
   "metadata": {},
   "source": [
    "# 20.11 Join ve Merge"
   ]
  },
  {
   "cell_type": "code",
   "execution_count": 8,
   "metadata": {},
   "outputs": [
    {
     "name": "stdout",
     "output_type": "stream",
     "text": [
      "   CustomerId FirstName LastName\n",
      "0           1     Ahmet   Yılmaz\n",
      "1           2       Ali  Korkmaz\n",
      "2           3     Hasan    Çelik\n",
      "3           4     Canan   Toprak\n",
      "   OrdersId  CustomerId   OrderDate\n",
      "0        10           1  2010-07-04\n",
      "1        11           2  2010-08-04\n",
      "2        12           5  2010-07-07\n",
      "3        13           7  2012-07-04\n",
      "   CustomerId FirstName LastName  OrdersId   OrderDate\n",
      "0           1     Ahmet   Yılmaz      10.0  2010-07-04\n",
      "1           2       Ali  Korkmaz      11.0  2010-08-04\n",
      "2           3     Hasan    Çelik       NaN         NaN\n",
      "3           4     Canan   Toprak       NaN         NaN\n",
      "4           5       NaN      NaN      12.0  2010-07-07\n",
      "5           7       NaN      NaN      13.0  2012-07-04\n"
     ]
    }
   ],
   "source": [
    "import pandas as pd\n",
    "\n",
    "customers = {\n",
    "    'CustomerId' : [1,2,3,4],\n",
    "    'FirstName' : [\"Ahmet\", \"Ali\", \"Hasan\", \"Canan\"],\n",
    "    'LastName' : ['Yılmaz', 'Korkmaz', 'Çelik', 'Toprak']\n",
    "}\n",
    "\n",
    "orders = {\n",
    "    'OrdersId' : [10,11,12,13],\n",
    "    'CustomerId' : [1,2,5,7],\n",
    "    'OrderDate' : ['2010-07-04','2010-08-04','2010-07-07','2012-07-04']\n",
    "}\n",
    "\n",
    "df_customers = pd.DataFrame(customers, columns=[\"CustomerId\",'FirstName','LastName'])\n",
    "df_orders = pd.DataFrame(orders, columns = ['OrdersId','CustomerId','OrderDate'])\n",
    "\n",
    "print(df_customers)\n",
    "print(df_orders)\n",
    "\n",
    "result = pd.merge(df_customers,df_orders, how = \"inner\")\n",
    "result = pd.merge(df_customers,df_orders, how = \"left\")\n",
    "result = pd.merge(df_customers,df_orders, how = \"right\")\n",
    "result = pd.merge(df_customers,df_orders, how = \"outer\")\n",
    "\n",
    "print(result)"
   ]
  },
  {
   "cell_type": "code",
   "execution_count": 11,
   "metadata": {},
   "outputs": [
    {
     "name": "stdout",
     "output_type": "stream",
     "text": [
      "   CustomerId FirstName LastName\n",
      "0           1     Ahmet   Yilmaz\n",
      "1           2       Ali  Korkmaz\n",
      "2           3     Hasan    Çelik\n",
      "3           4     Canan   Toprak\n",
      "0           4    Furkan    Altin\n",
      "1           5       Ali   Korkar\n",
      "2           6       Ben   Alimum\n",
      "3           7     Yavru     Ninu\n"
     ]
    }
   ],
   "source": [
    "import pandas as pd\n",
    "customersA = {\n",
    "    'CustomerId' : [1,2,3,4],\n",
    "    'FirstName' : [\"Ahmet\", \"Ali\", \"Hasan\", \"Canan\"],\n",
    "    'LastName' : ['Yilmaz', 'Korkmaz', 'Çelik', 'Toprak']\n",
    "}\n",
    "\n",
    "customersB = {\n",
    "    'CustomerId' : [4,5,6,7],\n",
    "    'FirstName' : [\"Furkan\", \"Ali\", \"Ben\", \"Yavru\"],\n",
    "    'LastName' : ['Altin', 'Korkar', 'Alimum', 'Ninu']\n",
    "}\n",
    "\n",
    "\n",
    "df_customersA = pd.DataFrame(customersA, columns = [\"CustomerId\",'FirstName','LastName'])\n",
    "df_customersB = pd.DataFrame(customersB,    columns = [\"CustomerId\",'FirstName','LastName'])\n",
    "\n",
    "result = pd.concat([df_customersA,df_customersB])\n",
    "\n",
    "print(result)"
   ]
  },
  {
   "cell_type": "markdown",
   "metadata": {},
   "source": [
    "# 20.12 DataFrame Metotları"
   ]
  },
  {
   "cell_type": "code",
   "execution_count": null,
   "metadata": {},
   "outputs": [
    {
     "name": "stdout",
     "output_type": "stream",
     "text": [
      "   Column1  Column2 Column3\n",
      "4        5       25     dea\n",
      "3        4       20     cba\n",
      "1        2       20     bca\n",
      "2        3       13     ade\n",
      "0        1       10     abc\n"
     ]
    }
   ],
   "source": [
    "import pandas as pd\n",
    "import numpy as np \n",
    "\n",
    "data ={\n",
    "    \"Column1\" : [1,2,3,4,5],\n",
    "    \"Column2\" : [10,20,13,20,25],\n",
    "    \"Column3\" : [\"abc\",\"bca\",\"ade\",\"cba\",\"dea\"]\n",
    "}\n",
    "\n",
    "def kareal (x):\n",
    "    return x * x\n",
    "\n",
    "kareal2 = lambda x : x * x\n",
    "\n",
    "df = pd.DataFrame(data)\n",
    "result = df\n",
    "result = df[\"Column2\"].unique()\n",
    "result = df[\"Column2\"].nunique()\n",
    "result = df[\"Column2\"].value_counts()\n",
    "result = df[\"Column1\"] * 2\n",
    "result = df[\"Column1\"].apply(kareal)\n",
    "result = df[\"Column1\"].apply(kareal2)\n",
    "result = df[\"Column1\"].apply(lambda x : x * x)\n",
    "result = df[\"Column3\"].apply(len)\n",
    "result = df.info\n",
    "result = df.sort_values(\"Column2\")\n",
    "result = df.sort_values(\"Column3\")\n",
    "result = df.sort_values(\"Column3\",ascending=False)\n",
    "\n",
    "\n",
    "print(result)"
   ]
  },
  {
   "cell_type": "code",
   "execution_count": 26,
   "metadata": {},
   "outputs": [
    {
     "name": "stdout",
     "output_type": "stream",
     "text": [
      "Kategori  Elektronik  Giyim  Kitap\n",
      "Ay                                \n",
      "Haziran         30.0   36.0   32.0\n",
      "Mayis           20.0   12.0   14.0\n",
      "Nisan           15.0   52.0   42.0\n"
     ]
    }
   ],
   "source": [
    "import pandas as pd\n",
    "import numpy as np \n",
    "df = pd.DataFrame(data)\n",
    "\n",
    "data = {\n",
    "    \"Ay\": [\"Mayis\",\"Haziran\",\"Nisan\",\"Mayis\",\"Haziran\",\"Nisan\",\"Mayis\",\"Haziran\",\"Nisan\"],\n",
    "    \"Kategori\": [\"Elektronik\",\"Elektronik\",\"Elektronik\",\"Kitap\",\"Kitap\",\"Kitap\",\"Giyim\",\"Giyim\",\"Giyim\"],\n",
    "    \"Gelir\": [20,30,15,14,32,42,12,36,52]\n",
    "}\n",
    "\n",
    "df = pd.DataFrame(data)\n",
    "\n",
    "print(df.pivot_table(index=\"Ay\",columns= \"Kategori\", values= \"Gelir\"))"
   ]
  }
 ],
 "metadata": {
  "kernelspec": {
   "display_name": "Python 3",
   "language": "python",
   "name": "python3"
  },
  "language_info": {
   "codemirror_mode": {
    "name": "ipython",
    "version": 3
   },
   "file_extension": ".py",
   "mimetype": "text/x-python",
   "name": "python",
   "nbconvert_exporter": "python",
   "pygments_lexer": "ipython3",
   "version": "3.11.8"
  }
 },
 "nbformat": 4,
 "nbformat_minor": 2
}
