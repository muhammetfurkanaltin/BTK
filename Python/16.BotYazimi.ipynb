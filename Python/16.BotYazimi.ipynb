{
 "cells": [
  {
   "cell_type": "markdown",
   "metadata": {},
   "source": [
    "# 16.1 Selenium ile Chorme arama"
   ]
  },
  {
   "cell_type": "code",
   "execution_count": null,
   "metadata": {},
   "outputs": [],
   "source": [
    "from selenium import webdriver  # type: ignore\n",
    "\n",
    "driver = webdriver.Chrome()\n",
    "\n",
    "url = \"http://youtube.com\"\n",
    "driver.get(url)\n"
   ]
  },
  {
   "cell_type": "markdown",
   "metadata": {},
   "source": [
    "# 16.2 Selenium Temelleri\n"
   ]
  },
  {
   "cell_type": "code",
   "execution_count": 19,
   "metadata": {},
   "outputs": [
    {
     "name": "stdout",
     "output_type": "stream",
     "text": [
      "GitHub · Build and ship software on a single, collaborative platform · GitHub\n"
     ]
    }
   ],
   "source": [
    "from selenium import webdriver  # type: ignore    \n",
    "import time \n",
    "\n",
    "driver = webdriver.Chrome()\n",
    "\n",
    "url = \"http://github.com\"\n",
    "driver.get(url)\n",
    "time.sleep(2)\n",
    "\n",
    "driver.maximize_window()\n",
    "#driver.save_screenshot(\"github.com-homepage.png\")\n",
    "print(driver.title)\n",
    "\n",
    "url = \"http://github.com/muhammetfurkanaltin\"\n",
    "driver.get(url)\n",
    "\n",
    "if \"muhammetfurkanaltin\" in driver.title:\n",
    "    driver.save_screenshot(\"git.png\")\n",
    "time.sleep(2)\n",
    "\n",
    "driver.back()\n",
    "#driver.foward()\n",
    "\n",
    "time.sleep(2)\n",
    "\n",
    "driver.close()"
   ]
  },
  {
   "cell_type": "markdown",
   "metadata": {},
   "source": [
    "# 16.3 Selectors Bilgisi"
   ]
  },
  {
   "cell_type": "code",
   "execution_count": null,
   "metadata": {
    "vscode": {
     "languageId": "html"
    }
   },
   "outputs": [],
   "source": [
    " <!DOCTYPE html>\n",
    " <html lang=\"en\">\n",
    " <head>\n",
    "    <meta charset=\"UTF-8\">\n",
    "    <meta name=\"viewport\" content=\"width=device-width, initial-scale=1.0\">\n",
    "    <title>Document</title>\n",
    "    <style>\n",
    "      #header {\n",
    "         font-size :45px;\n",
    "         color: red;\n",
    "      }\n",
    "      .course h2 {\n",
    "         color:violet;\n",
    "      }\n",
    "      .course.csharp{\n",
    "         background-color: aqua;\n",
    "      }\n",
    "      #username[type = \"username\"] {\n",
    "         border:1px solid blue;\n",
    "      }\n",
    "      input[type=\"text\"]{\n",
    "         padding: 30px;\n",
    "      }\n",
    "    </style>\n",
    " </head>\n",
    " <body>\n",
    "    <div id= \"container\" >\n",
    "      <h1 id= \"header\" >Kurslar</h1>\n",
    "      <hr>\n",
    "      <div class = \"course python\">\n",
    "         <h2>Python kursu</h2>\n",
    "         <p>Lorem ipsum dolor sit amet consectetur, adipisicing elit. Ipsum, tempora?</p>\n",
    "      </div>\n",
    "      <div class = \"course csharp\">\n",
    "         <h2>c# kursu</h2>\n",
    "         <p>Lorem ipsum dolor sit amet consectetur, adipisicing elit. Ipsum, tempora?</p>\n",
    "      </div>\n",
    "      <div class = \"course java\">\n",
    "         <h2>java kursu</h2>\n",
    "         <p>Lorem ipsum dolor sit amet consectetur, adipisicing elit. Ipsum, tempora?</p>\n",
    "      </div>\n",
    "      <div>\n",
    "         <form>\n",
    "            Username:<input type = \"text\" name=\"username\" id = \"username\"><br>\n",
    "            Password:<input type = \"text\" name=\"password\" id = \"password\"><br>\n",
    "            <input type=\"submit\" value=\"Login\" id=\"submit\">\n",
    "         </form>\n",
    "      </div>\n",
    "    </div>\n",
    " </body>\n",
    " </html>"
   ]
  },
  {
   "cell_type": "markdown",
   "metadata": {},
   "source": [
    "# 16.4 Sayfa Etkileşimi"
   ]
  },
  {
   "cell_type": "code",
   "execution_count": 2,
   "metadata": {},
   "outputs": [
    {
     "name": "stdout",
     "output_type": "stream",
     "text": [
      "TheAlgorithms/Python\n",
      "walter201230/Python\n",
      "injetlee/Python\n",
      "kubernetes-client/python\n",
      "gxcuizy/Python\n",
      "flypythoncom/python\n",
      "exercism/python\n",
      "joeyajames/Python\n",
      "docker-library/python\n",
      "jakevdp/PythonDataScienceHandbook\n"
     ]
    }
   ],
   "source": [
    "from selenium import webdriver\n",
    "from selenium.webdriver.common.by import By\n",
    "from selenium.webdriver.common.keys import Keys\n",
    "import time \n",
    "\n",
    "driver = webdriver.Chrome()\n",
    "\n",
    "url=\"http://github.com\"\n",
    "driver.get(url)\n",
    "time.sleep(5)\n",
    "\n",
    "\n",
    "searchInput = driver.find_element(By.XPATH, \"/html/body/div[1]/div[1]/header/div/div[2]/div/div/qbsearch-input/div[1]/button\")\n",
    "time.sleep(1)\n",
    "searchInput.send_keys(Keys.ENTER)\n",
    "time.sleep(1)\n",
    "\n",
    "searchInput = driver.find_element(By.XPATH, '//*[@id=\"query-builder-test\"]')\n",
    "time.sleep(1)\n",
    "searchInput.send_keys(\"Python\")                   \n",
    "time.sleep(1)\n",
    "searchInput.send_keys(Keys.ENTER)\n",
    "time.sleep(5)\n",
    "\n",
    "result = driver.find_elements(By.CSS_SELECTOR, \".iwUbcA h3 a \")\n",
    "\n",
    "for element in result :\n",
    "    print (element.text)\n",
    "\n",
    "driver.close()"
   ]
  },
  {
   "cell_type": "markdown",
   "metadata": {},
   "source": [
    "# 16.5 Demo-Github Takipçi listesinin Alınması-GT.py"
   ]
  }
 ],
 "metadata": {
  "kernelspec": {
   "display_name": "Python 3",
   "language": "python",
   "name": "python3"
  },
  "language_info": {
   "codemirror_mode": {
    "name": "ipython",
    "version": 3
   },
   "file_extension": ".py",
   "mimetype": "text/x-python",
   "name": "python",
   "nbconvert_exporter": "python",
   "pygments_lexer": "ipython3",
   "version": "3.11.8"
  }
 },
 "nbformat": 4,
 "nbformat_minor": 2
}
