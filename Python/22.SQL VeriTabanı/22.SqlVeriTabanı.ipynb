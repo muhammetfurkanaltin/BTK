{
 "cells": [
  {
   "cell_type": "markdown",
   "metadata": {},
   "source": [
    "# 22.1 Database Nedir"
   ]
  },
  {
   "cell_type": "markdown",
   "metadata": {},
   "source": [
    "    Memory \n",
    "    File System =>  .json .xml .xls\n",
    "    SQL         => (MySql  MsSql(Server))  SQLite(Serverless)\n",
    "    NoSQL       =>  MongoDb(Server)\n"
   ]
  },
  {
   "cell_type": "markdown",
   "metadata": {},
   "source": [
    "# 22.2 SQL VeriTabanı Yapısı"
   ]
  },
  {
   "cell_type": "markdown",
   "metadata": {},
   "source": [
    "# 22.3 SQL Tablo İlişkileri"
   ]
  },
  {
   "cell_type": "markdown",
   "metadata": {},
   "source": [
    "-One to many \n",
    "-Many to Many \n",
    "-One to One\n"
   ]
  },
  {
   "cell_type": "markdown",
   "metadata": {},
   "source": [
    "# 22.4 SQL Veri Tabanı Uygulama-1"
   ]
  },
  {
   "cell_type": "markdown",
   "metadata": {},
   "source": [
    "# 22.5 Uygulama-2\n"
   ]
  },
  {
   "cell_type": "markdown",
   "metadata": {},
   "source": [
    "# 22.6 Uygulama-3\n"
   ]
  },
  {
   "cell_type": "markdown",
   "metadata": {},
   "source": [
    "# 22.7 MySQL Kurulum"
   ]
  },
  {
   "cell_type": "markdown",
   "metadata": {},
   "source": [
    "# 22.8 VeriTabanına Tablo Ekleme\n"
   ]
  },
  {
   "cell_type": "markdown",
   "metadata": {},
   "source": [
    "# 22.9 Veritabanı Baglantısı"
   ]
  },
  {
   "cell_type": "code",
   "execution_count": null,
   "metadata": {},
   "outputs": [],
   "source": [
    "import mysql.connector # type: ignore\n",
    "\n",
    "mydb = mysql.connector.connect(\n",
    "    host = \"localhost\", #192.32.32.32\n",
    "    user = \"root\",\n",
    "    password = \"mysql4123\"\n",
    ")\n",
    "print(mydb)"
   ]
  },
  {
   "cell_type": "markdown",
   "metadata": {},
   "source": [
    "Yeni bir Database Oluşturur."
   ]
  },
  {
   "cell_type": "code",
   "execution_count": null,
   "metadata": {},
   "outputs": [],
   "source": [
    "import mysql.connector # type: ignore\n",
    "\n",
    "mydb = mysql.connector.connect(\n",
    "    host = \"localhost\", #192.32.32.32\n",
    "    user = \"root\",\n",
    "    password = \"mysql4123\"\n",
    ")\n",
    "mycursor = mydb.cursor()\n",
    "mycursor.execute(\"CREATE DATABASE mydatabase\")\n",
    "print(mydb)"
   ]
  },
  {
   "cell_type": "markdown",
   "metadata": {},
   "source": [
    "Olusturdugumuz DB'lere Bakmamızı Saglar"
   ]
  },
  {
   "cell_type": "code",
   "execution_count": null,
   "metadata": {},
   "outputs": [],
   "source": [
    "import mysql.connector # type: ignore\n",
    "\n",
    "mydb = mysql.connector.connect(\n",
    "    host = \"localhost\", #192.32.32.32\n",
    "    user = \"root\",\n",
    "    password = \"mysql4123\"\n",
    ")\n",
    "mycursor = mydb.cursor()\n",
    "mycursor.execute(\"SHOW DATABASES\")\n",
    "for x in mycursor:\n",
    "    print(x)"
   ]
  },
  {
   "cell_type": "markdown",
   "metadata": {},
   "source": [
    "Olusturdugumuz DB içine column açma"
   ]
  },
  {
   "cell_type": "code",
   "execution_count": null,
   "metadata": {},
   "outputs": [],
   "source": [
    "import mysql.connector # type: ignore\n",
    "\n",
    "mydb = mysql.connector.connect(\n",
    "    host = \"localhost\", #192.32.32.32\n",
    "    user = \"root\",\n",
    "    password = \"mysql4123\",\n",
    "    database = \"mydatabase\"\n",
    ")\n",
    "mycursor = mydb.cursor()\n",
    "mycursor.execute(\"CREATE TABLE customers(name VARCHAR(255), adress VARCHAR(255))\")\n"
   ]
  },
  {
   "cell_type": "markdown",
   "metadata": {},
   "source": [
    "# 22.10 Demo-Okul_Veri_Tabanı\n"
   ]
  },
  {
   "cell_type": "markdown",
   "metadata": {},
   "source": [
    "Sutünlar ve baglantı kuruldu."
   ]
  },
  {
   "cell_type": "markdown",
   "metadata": {},
   "source": [
    "# 22.11 Insert Sorgusu"
   ]
  },
  {
   "cell_type": "code",
   "execution_count": null,
   "metadata": {},
   "outputs": [
    {
     "name": "stdout",
     "output_type": "stream",
     "text": [
      "Kayıtlarınız Vritabanına aktarılıyor. \n",
      "[('s12', 12.0, '12.png', '12'), ('s13', 13.0, '13.', '13.')]\n",
      "2 tanr kayıt olusturuldu\n",
      "son eklenen kaydın id :6\n",
      "Database kapatıldı\n"
     ]
    }
   ],
   "source": [
    "import mysql.connector # type: ignore\n",
    "\n",
    "def insertProduct(name,price,imageUrl,description):\n",
    "    connection = mysql.connector.connect(host=\"localhost\", user = \"root\", password = \"mysql4123\" , database = \"node-app\")\n",
    "    cursor = connection.cursor()\n",
    "\n",
    "    sql = \"INSERT INTO Products(name,price,imageUrl,description) VALUES (%s,%s,%s,%s)\"\n",
    "    values = (name,price,imageUrl,description)\n",
    "    cursor.execute(sql,values)\n",
    "    try:\n",
    "        connection.commit()\n",
    "        print(f'{cursor.rowcount} tanr kayıt olusturuldu')   #rowcount kaç tane kayıt olusturuldugunu soyler.\n",
    "        print(f'son eklenen kaydın id :{cursor.lastrowid}')\n",
    "    except mysql.connector.Error as err:\n",
    "        print('Hata: ', err)\n",
    "    finally:\n",
    "        connection.close()\n",
    "        print(\"Database kapatıldı\")\n",
    "\n",
    "def insertProducts(list):\n",
    "    connection = mysql.connector.connect(host=\"localhost\", user = \"root\", password = \"mysql4123\" , database = \"node-app\")\n",
    "    cursor = connection.cursor()\n",
    "\n",
    "    sql = \"INSERT INTO Products(name,price,imageUrl,description) VALUES (%s,%s,%s,%s)\"\n",
    "    values = (list)\n",
    "    cursor.executemany(sql,values)\n",
    "    try:\n",
    "        connection.commit()\n",
    "        print(f'{cursor.rowcount} tanr kayıt olusturuldu')   #rowcount kaç tane kayıt olusturuldugunu soyler.\n",
    "        print(f'son eklenen kaydın id :{cursor.lastrowid}')\n",
    "    except mysql.connector.Error as err:\n",
    "        print('Hata: ', err)\n",
    "    finally:\n",
    "        connection.close()\n",
    "        print(\"Database kapatıldı\")\n",
    "\n",
    "list=[]\n",
    "\n",
    "while True:\n",
    "    name = input (\"Ürün adi: \")\n",
    "    price = float(input (\"Ürün price: \"))\n",
    "    imageUrl = input (\"Ürün png: \")\n",
    "    description = input (\"Ürün comment: \")\n",
    "\n",
    "    list.append((name,price,imageUrl,description))\n",
    "\n",
    "    result = input ('devam etmek isyiormusunuz (h/e)')\n",
    "\n",
    "    if result == 'h':\n",
    "        print('Kayıtlarınız Vritabanına aktarılıyor. ')\n",
    "        print (list)\n",
    "        insertProducts(list)\n",
    "        break\n",
    "\n",
    "\n",
    "#insertProduct(name,price,imageUrl,description)"
   ]
  },
  {
   "cell_type": "markdown",
   "metadata": {},
   "source": [
    "# 22.12 Demo-Okul Veri Tabanı-2"
   ]
  },
  {
   "cell_type": "markdown",
   "metadata": {},
   "source": [
    "Kayıt Ekleme-Okul_Veri_Tabanı.py"
   ]
  },
  {
   "cell_type": "markdown",
   "metadata": {},
   "source": [
    "# 22.13 Select Sorgusu"
   ]
  },
  {
   "cell_type": "code",
   "execution_count": null,
   "metadata": {},
   "outputs": [
    {
     "name": "stdout",
     "output_type": "stream",
     "text": [
      "name : S6 price: 2000\n"
     ]
    }
   ],
   "source": [
    "import mysql.connector # type: ignore\n",
    "\n",
    "def insertProduct(name,price,imageUrl,description):\n",
    "    connection = mysql.connector.connect(host=\"localhost\", user = \"root\", password = \"mysql4123\" , database = \"node-app\")\n",
    "    cursor = connection.cursor()\n",
    "\n",
    "    sql = \"INSERT INTO Products(name,price,imageUrl,description) VALUES (%s,%s,%s,%s)\"\n",
    "    values = (name,price,imageUrl,description)\n",
    "    cursor.execute(sql,values)\n",
    "    try:\n",
    "        connection.commit()\n",
    "        print(f'{cursor.rowcount} tanr kayıt olusturuldu')   #rowcount kaç tane kayıt olusturuldugunu soyler.\n",
    "        print(f'son eklenen kaydın id :{cursor.lastrowid}')\n",
    "    except mysql.connector.Error as err:\n",
    "        print('Hata: ', err)\n",
    "    finally:\n",
    "        connection.close()\n",
    "        print(\"Database kapatıldı\")\n",
    "\n",
    "def insertProducts(list):\n",
    "    connection = mysql.connector.connect(host=\"localhost\", user = \"root\", password =\"mysql4123\" , database = \"node-app\")\n",
    "    cursor = connection.cursor()\n",
    "\n",
    "    sql = \"INSERT INTO Products(name,price,imageUrl,description) VALUES (%s,%s,%s,%s)\"\n",
    "    values = (list)\n",
    "    cursor.executemany(sql,values)\n",
    "    try:\n",
    "        connection.commit()\n",
    "        print(f'{cursor.rowcount} tanr kayıt olusturuldu')   #rowcount kaç tane kayıt olusturuldugunu soyler.\n",
    "        print(f'son eklenen kaydın id :{cursor.lastrowid}')\n",
    "    except mysql.connector.Error as err:\n",
    "        print('Hata: ', err)\n",
    "    finally:\n",
    "        connection.close()\n",
    "        print(\"Database kapatıldı\")\n",
    "\n",
    "def getProducts():\n",
    "    connection = mysql.connector.connect(host=\"localhost\", user = \"root\", password = \"mysql4123\" , database = \"node-app\")\n",
    "    cursor = connection.cursor()\n",
    "\n",
    "    #cursor.execute('Select * From Products')         # \"*\" Tüm sutünleri alır  ıd[0],name[1],price[2] sql sırası\n",
    "    cursor.execute('Select name,price From Products') # sadece belirtilen sutünleri alır name[0],price[1]\n",
    "\n",
    "    #result = cursor.fetchall()\n",
    "    result = cursor.fetchone()\n",
    "    \n",
    "    print(f'name : {result[0]} price: {result[1]}')\n",
    "\n",
    "    #for product in result :\n",
    "        #print(f'name : {product[1]} price: {product[2]}')\n",
    "        #print(f'name : {product[0]} price: {product[1]}')\n",
    "\n",
    "getProducts()"
   ]
  },
  {
   "cell_type": "markdown",
   "metadata": {},
   "source": [
    "# 22.14 Where Sorgusu\n"
   ]
  },
  {
   "cell_type": "code",
   "execution_count": null,
   "metadata": {},
   "outputs": [
    {
     "name": "stdout",
     "output_type": "stream",
     "text": [
      "id :3 name : Samsung S5 price: 1000\n"
     ]
    }
   ],
   "source": [
    "import mysql.connector # type: ignore\n",
    "\n",
    "def insertProduct(name,price,imageUrl,description):\n",
    "    connection = mysql.connector.connect(host=\"localhost\", user = \"root\", password = \"mysql4123\" , database = \"node-app\")\n",
    "    cursor = connection.cursor()\n",
    "\n",
    "    sql = \"INSERT INTO Products(name,price,imageUrl,description) VALUES (%s,%s,%s,%s)\"\n",
    "    values = (name,price,imageUrl,description)\n",
    "    cursor.execute(sql,values)\n",
    "    try:\n",
    "        connection.commit()\n",
    "        print(f'{cursor.rowcount} tane kayıt olusturuldu')   #rowcount kaç tane kayıt olusturuldugunu soyler.\n",
    "        print(f'son eklenen kaydın id :{cursor.lastrowid}')\n",
    "    except mysql.connector.Error as err:\n",
    "        print('Hata: ', err)\n",
    "    finally:\n",
    "        connection.close()\n",
    "        print(\"Database kapatıldı\")\n",
    "\n",
    "def insertProducts(list):\n",
    "    connection = mysql.connector.connect(host=\"localhost\", user = \"root\", password = \"mysql4123\" , database = \"node-app\")\n",
    "    cursor = connection.cursor()\n",
    "\n",
    "    sql = \"INSERT INTO Products(name,price,imageUrl,description) VALUES (%s,%s,%s,%s)\"\n",
    "    values = (list)\n",
    "    cursor.executemany(sql,values)\n",
    "    try:\n",
    "        connection.commit()\n",
    "        print(f'{cursor.rowcount} tanr kayıt olusturuldu')   #rowcount kaç tane kayıt olusturuldugunu soyler.\n",
    "        print(f'son eklenen kaydın id :{cursor.lastrowid}')\n",
    "    except mysql.connector.Error as err:\n",
    "        print('Hata: ', err)\n",
    "    finally:\n",
    "        connection.close()\n",
    "        print(\"Database kapatıldı\")\n",
    "\n",
    "def getProducts():\n",
    "\n",
    "    connection = mysql.connector.connect(host=\"localhost\", user = \"root\", password = \"mysql4123\" , database = \"node-app\")\n",
    "    cursor = connection.cursor()\n",
    "\n",
    "    cursor.execute('Select * From Products Where name LIKE \"%Samsung%\" and price = 1000 ') \n",
    "    \n",
    "    result = cursor.fetchall()\n",
    "\n",
    "    for product in result :\n",
    "        print(f'id :{product[0]} name : {product[1]} price: {product[2]}')\n",
    "\n",
    "        \n",
    "def getProductById(ıd):\n",
    "    \n",
    "    connection = mysql.connector.connect(host=\"localhost\", user = \"root\", password = \"mysql4123\" , database = \"node-app\")\n",
    "    cursor = connection.cursor()\n",
    "\n",
    "    sql = 'Select * From Products Where ıd = %s '\n",
    "    params = (ıd,)\n",
    "\n",
    "    cursor.execute(sql , params) \n",
    "    \n",
    "    result = cursor.fetchone()\n",
    "\n",
    "    print(f'id :{result[0]} name : {result[1]} price: {result[2]}')\n",
    "\n",
    "    \n",
    "getProductById(3)"
   ]
  },
  {
   "cell_type": "markdown",
   "metadata": {},
   "source": [
    "# 22.15 OrderBy Sorgusu"
   ]
  },
  {
   "cell_type": "code",
   "execution_count": null,
   "metadata": {},
   "outputs": [
    {
     "name": "stdout",
     "output_type": "stream",
     "text": [
      "id :6 name : s12 price: 12\n",
      "id :7 name : s13 price: 13\n",
      "id :1 name : S6 price: 2000\n",
      "id :2 name : S7 price: 3000\n",
      "id :4 name : S8 price: 2323\n",
      "id :5 name : S9 price: 3232\n",
      "id :3 name : Samsung S5 price: 1000\n",
      "Database kapatıldı\n"
     ]
    }
   ],
   "source": [
    "import mysql.connector # type: ignore\n",
    "\n",
    "def insertProduct(name,price,imageUrl,description):\n",
    "    connection = mysql.connector.connect(host=\"localhost\", user = \"root\", password = \"mysql4123\" , database = \"node-app\")\n",
    "    cursor = connection.cursor()\n",
    "\n",
    "    sql = \"INSERT INTO Products(name,price,imageUrl,description) VALUES (%s,%s,%s,%s)\"\n",
    "    values = (name,price,imageUrl,description)\n",
    "    cursor.execute(sql,values)\n",
    "    try:\n",
    "        connection.commit()\n",
    "        print(f'{cursor.rowcount} tane kayıt olusturuldu')   #rowcount kaç tane kayıt olusturuldugunu soyler.\n",
    "        print(f'son eklenen kaydın id :{cursor.lastrowid}')\n",
    "    except mysql.connector.Error as err:\n",
    "        print('Hata: ', err)\n",
    "    finally:\n",
    "        connection.close()\n",
    "        print(\"Database kapatıldı\")\n",
    "\n",
    "def insertProducts(list):\n",
    "    connection = mysql.connector.connect(host=\"localhost\", user = \"root\", password = \"mysql4123\" , database = \"node-app\")\n",
    "    cursor = connection.cursor()\n",
    "\n",
    "    sql = \"INSERT INTO Products(name,price,imageUrl,description) VALUES (%s,%s,%s,%s)\"\n",
    "    values = (list)\n",
    "    cursor.executemany(sql,values)\n",
    "    try:\n",
    "        connection.commit()\n",
    "        print(f'{cursor.rowcount} tanr kayıt olusturuldu')   #rowcount kaç tane kayıt olusturuldugunu soyler.\n",
    "        print(f'son eklenen kaydın id :{cursor.lastrowid}')\n",
    "    except mysql.connector.Error as err:\n",
    "        print('Hata: ', err)\n",
    "    finally:\n",
    "        connection.close()\n",
    "        print(\"Database kapatıldı\")\n",
    "\n",
    "def getProducts():\n",
    "\n",
    "    connection = mysql.connector.connect(host=\"localhost\", user = \"root\", password = \"mysql4123\" , database = \"node-app\")\n",
    "    cursor = connection.cursor()\n",
    "\n",
    "    cursor.execute('Select * From Products Order By name, price') \n",
    "    try:\n",
    "        result = cursor.fetchall()     \n",
    "        for product in result :\n",
    "            print(f'id :{product[0]} name : {product[1]} price: {product[2]}')\n",
    "    except mysql.connector.Error as err:\n",
    "        print('Hata: ', err)\n",
    "    finally:\n",
    "        connection.close()\n",
    "        print(\"Database kapatıldı\")\n",
    "\n",
    "\n",
    "        \n",
    "def getProductById(ıd):\n",
    "    \n",
    "    connection = mysql.connector.connect(host=\"localhost\", user = \"root\", password = \"mysql4123\" , database = \"node-app\")\n",
    "    cursor = connection.cursor()\n",
    "\n",
    "    sql = 'Select * From Products Where ıd = %s '\n",
    "    params = (ıd,)\n",
    "\n",
    "    cursor.execute(sql , params) \n",
    "    \n",
    "    result = cursor.fetchone()\n",
    "\n",
    "    print(f'id :{result[0]} name : {result[1]} price: {result[2]}')\n",
    "\n",
    "    \n",
    "getProducts()"
   ]
  },
  {
   "cell_type": "markdown",
   "metadata": {},
   "source": [
    "# 22.16 Aggregate Fonksiyonları"
   ]
  },
  {
   "cell_type": "code",
   "execution_count": null,
   "metadata": {},
   "outputs": [
    {
     "name": "stdout",
     "output_type": "stream",
     "text": [
      "result: S9 3232\n"
     ]
    }
   ],
   "source": [
    "import mysql.connector # type: ignore\n",
    "\n",
    "def insertProduct(name,price,imageUrl,description):\n",
    "    connection = mysql.connector.connect(host=\"localhost\", user = \"root\", password = \"mysql4123\" , database = \"node-app\")\n",
    "    cursor = connection.cursor()\n",
    "\n",
    "    sql = \"INSERT INTO Products(name,price,imageUrl,description) VALUES (%s,%s,%s,%s)\"\n",
    "    values = (name,price,imageUrl,description)\n",
    "    cursor.execute(sql,values)\n",
    "    try:\n",
    "        connection.commit()\n",
    "        print(f'{cursor.rowcount} tane kayıt olusturuldu')   #rowcount kaç tane kayıt olusturuldugunu soyler.\n",
    "        print(f'son eklenen kaydın id :{cursor.lastrowid}')\n",
    "    except mysql.connector.Error as err:\n",
    "        print('Hata: ', err)\n",
    "    finally:\n",
    "        connection.close()\n",
    "        print(\"Database kapatıldı\")\n",
    "\n",
    "def insertProducts(list):\n",
    "    connection = mysql.connector.connect(host=\"localhost\", user = \"root\", password = \"mysql4123\" , database = \"node-app\")\n",
    "    cursor = connection.cursor()\n",
    "\n",
    "    sql = \"INSERT INTO Products(name,price,imageUrl,description) VALUES (%s,%s,%s,%s)\"\n",
    "    values = (list)\n",
    "    cursor.executemany(sql,values)\n",
    "    try:\n",
    "        connection.commit()\n",
    "        print(f'{cursor.rowcount} tanr kayıt olusturuldu')   #rowcount kaç tane kayıt olusturuldugunu soyler.\n",
    "        print(f'son eklenen kaydın id :{cursor.lastrowid}')\n",
    "    except mysql.connector.Error as err:\n",
    "        print('Hata: ', err)\n",
    "    finally:\n",
    "        connection.close()\n",
    "        print(\"Database kapatıldı\")\n",
    "\n",
    "def getProducts():\n",
    "\n",
    "    connection = mysql.connector.connect(host=\"localhost\", user = \"root\", password = \"mysql4123\" , database = \"node-app\")\n",
    "    cursor = connection.cursor()\n",
    "\n",
    "    cursor.execute('Select * From Products Order By name, price') \n",
    "    try:\n",
    "        result = cursor.fetchall()\n",
    "              \n",
    "        for product in result :\n",
    "            print(f'id :{product[0]} name : {product[1]} price: {product[2]}')\n",
    "    except mysql.connector.Error as err:\n",
    "        print('Hata: ', err)\n",
    "    finally:\n",
    "        connection.close()\n",
    "        print(\"Database kapatıldı\")\n",
    "\n",
    "def getProductById(ıd):\n",
    "    \n",
    "    connection = mysql.connector.connect(host=\"localhost\", user = \"root\", password = \"mysql4123\" , database = \"node-app\")\n",
    "    cursor = connection.cursor()\n",
    "\n",
    "    sql = 'Select * From Products Where ıd = %s '\n",
    "    params = (ıd,)\n",
    "\n",
    "    cursor.execute(sql , params) \n",
    "    \n",
    "    result = cursor.fetchone()\n",
    "\n",
    "    print(f'id :{result[0]} name : {result[1]} price: {result[2]}')\n",
    "\n",
    "def getProductByInfo():\n",
    "    \n",
    "    connection = mysql.connector.connect(host=\"localhost\", user = \"root\", password = \"mysql4123\" , database = \"node-app\")\n",
    "    cursor = connection.cursor()\n",
    "\n",
    "    #sql = 'Select COUNT() From Products '\n",
    "    #sql = 'Select AVG(price) From Products '\n",
    "    #sql = 'Select SUM(price) From Products '\n",
    "    #sql = 'Select MIN(price) From Products '\n",
    "    #sql = 'Select MAX(price) From Products '\n",
    "    #sql = 'Select SUM(price) From Products '\n",
    "    sql = 'Select name,price From Products Where price = (Select MAX(price) From Products)'\n",
    "\n",
    "\n",
    "    cursor.execute(sql) \n",
    "    \n",
    "    result = cursor.fetchone()\n",
    "\n",
    "    print(f'result: {result[0]} {result[1]}')\n",
    "\n",
    "\n",
    "\n",
    "    \n",
    "getProductByInfo()"
   ]
  },
  {
   "cell_type": "markdown",
   "metadata": {},
   "source": [
    "# 22.17 Demo- Veri Seçme"
   ]
  },
  {
   "cell_type": "markdown",
   "metadata": {},
   "source": [
    "# 22.18 _Update\n"
   ]
  },
  {
   "cell_type": "code",
   "execution_count": null,
   "metadata": {},
   "outputs": [
    {
     "name": "stdout",
     "output_type": "stream",
     "text": [
      "1 tane kayit güncellendi\n",
      "Database kapatıldı\n",
      "id :1 name : iphone 8  price: 6000\n",
      "id :6 name : s12 price: 12\n",
      "id :7 name : s13 price: 13\n",
      "id :2 name : S7 price: 3000\n",
      "id :4 name : S8 price: 2323\n",
      "id :5 name : Samsung S10 price: 5000\n",
      "id :3 name : Samsung S5 price: 1000\n",
      "Database kapatıldı\n"
     ]
    }
   ],
   "source": [
    "import mysql.connector # type: ignore\n",
    "\n",
    "def insertProduct(name,price,imageUrl,description):\n",
    "    connection = mysql.connector.connect(host=\"localhost\", user = \"root\", password = \"mysql4123\" , database = \"node-app\")\n",
    "    cursor = connection.cursor()\n",
    "\n",
    "    sql = \"INSERT INTO Products(name,price,imageUrl,description) VALUES (%s,%s,%s,%s)\"\n",
    "    values = (name,price,imageUrl,description)\n",
    "    cursor.execute(sql,values)\n",
    "    try:\n",
    "        connection.commit()\n",
    "        print(f'{cursor.rowcount} tane kayıt olusturuldu')   #rowcount kaç tane kayıt olusturuldugunu soyler.\n",
    "        print(f'son eklenen kaydın id :{cursor.lastrowid}')\n",
    "    except mysql.connector.Error as err:\n",
    "        print('Hata: ', err)\n",
    "    finally:\n",
    "        connection.close()\n",
    "        print(\"Database kapatıldı\")\n",
    "\n",
    "def insertProducts(list):\n",
    "    connection = mysql.connector.connect(host=\"localhost\", user = \"root\", password = \"mysql4123\" , database = \"node-app\")\n",
    "    cursor = connection.cursor()\n",
    "\n",
    "    sql = \"INSERT INTO Products(name,price,imageUrl,description) VALUES (%s,%s,%s,%s)\"\n",
    "    values = (list)\n",
    "    cursor.executemany(sql,values)\n",
    "    try:\n",
    "        connection.commit()\n",
    "        print(f'{cursor.rowcount} tanr kayıt olusturuldu')   #rowcount kaç tane kayıt olusturuldugunu soyler.\n",
    "        print(f'son eklenen kaydın id :{cursor.lastrowid}')\n",
    "    except mysql.connector.Error as err:\n",
    "        print('Hata: ', err)\n",
    "    finally:\n",
    "        connection.close()\n",
    "        print(\"Database kapatıldı\")\n",
    "\n",
    "def getProducts():\n",
    "\n",
    "    connection = mysql.connector.connect(host=\"localhost\", user = \"root\", password = \"mysql4123\" , database = \"node-app\")\n",
    "    cursor = connection.cursor()\n",
    "\n",
    "    cursor.execute('Select * From Products Order By name, price') \n",
    "    try:\n",
    "        result = cursor.fetchall()\n",
    "              \n",
    "        for product in result :\n",
    "            print(f'id :{product[0]} name : {product[1]} price: {product[2]}')\n",
    "    except mysql.connector.Error as err:\n",
    "        print('Hata: ', err)\n",
    "    finally:\n",
    "        connection.close()\n",
    "        print(\"Database kapatıldı\")\n",
    "\n",
    "def getProductById(ıd):\n",
    "    \n",
    "    connection = mysql.connector.connect(host=\"localhost\", user = \"root\", password = \"mysql4123\" , database = \"node-app\")\n",
    "    cursor = connection.cursor()\n",
    "\n",
    "    sql = 'Select * From Products Where ıd = %s '\n",
    "    params = (ıd,)\n",
    "\n",
    "    cursor.execute(sql , params) \n",
    "    \n",
    "    result = cursor.fetchone()\n",
    "\n",
    "    print(f'id :{result[0]} name : {result[1]} price: {result[2]}')\n",
    "\n",
    "def updateProduct(ıd ,name, price):\n",
    "    connection = mysql.connector.connect(host=\"localhost\", user = \"root\", password = \"mysql4123\" , database = \"node-app\")\n",
    "    cursor = connection.cursor()\n",
    "    sql = 'Update products Set name = %s ,  price = %s where ıd = %s '\n",
    "    values = (name , price ,ıd )\n",
    "\n",
    "    cursor.execute(sql,values)\n",
    "\n",
    "    try:\n",
    "        connection.commit()\n",
    "        print(f'{cursor.rowcount} tane kayit güncellendi')\n",
    "\n",
    "    except mysql.connector.Error as err:\n",
    "        print('Hata: ', err)\n",
    "    finally:\n",
    "        connection.close()\n",
    "        print(\"Database kapatıldı\")\n",
    "updateProduct(1,\"iphone 8 \", 6000)\n",
    "getProducts()"
   ]
  },
  {
   "cell_type": "markdown",
   "metadata": {},
   "source": [
    "# 22.19 Delete \n",
    "\n"
   ]
  },
  {
   "cell_type": "code",
   "execution_count": null,
   "metadata": {},
   "outputs": [
    {
     "name": "stdout",
     "output_type": "stream",
     "text": [
      "1 tane kayit silindi\n",
      "Database kapatıldı\n",
      "id :1 name : iphone 8  price: 6000\n",
      "id :7 name : s13 price: 13\n",
      "id :4 name : S8 price: 2323\n",
      "id :3 name : Samsung S5 price: 1000\n",
      "Database kapatıldı\n"
     ]
    }
   ],
   "source": [
    "import mysql.connector # type: ignore\n",
    "\n",
    "def insertProduct(name,price,imageUrl,description):\n",
    "    connection = mysql.connector.connect(host=\"localhost\", user = \"root\", password = \"mysql4123\" , database = \"node-app\")\n",
    "    cursor = connection.cursor()\n",
    "\n",
    "    sql = \"INSERT INTO Products(name,price,imageUrl,description) VALUES (%s,%s,%s,%s)\"\n",
    "    values = (name,price,imageUrl,description)\n",
    "    cursor.execute(sql,values)\n",
    "    try:\n",
    "        connection.commit()\n",
    "        print(f'{cursor.rowcount} tane kayıt olusturuldu')   #rowcount kaç tane kayıt olusturuldugunu soyler.\n",
    "        print(f'son eklenen kaydın id :{cursor.lastrowid}')\n",
    "    except mysql.connector.Error as err:\n",
    "        print('Hata: ', err)\n",
    "    finally:\n",
    "        connection.close()\n",
    "        print(\"Database kapatıldı\")\n",
    "\n",
    "def insertProducts(list):\n",
    "    connection = mysql.connector.connect(host=\"localhost\", user = \"root\", password = \"mysql4123\" , database = \"node-app\")\n",
    "    cursor = connection.cursor()\n",
    "\n",
    "    sql = \"INSERT INTO Products(name,price,imageUrl,description) VALUES (%s,%s,%s,%s)\"\n",
    "    values = (list)\n",
    "    cursor.executemany(sql,values)\n",
    "    try:\n",
    "        connection.commit()\n",
    "        print(f'{cursor.rowcount} tanr kayıt olusturuldu')   #rowcount kaç tane kayıt olusturuldugunu soyler.\n",
    "        print(f'son eklenen kaydın id :{cursor.lastrowid}')\n",
    "    except mysql.connector.Error as err:\n",
    "        print('Hata: ', err)\n",
    "    finally:\n",
    "        connection.close()\n",
    "        print(\"Database kapatıldı\")\n",
    "\n",
    "def getProducts():\n",
    "\n",
    "    connection = mysql.connector.connect(host=\"localhost\", user = \"root\", password = \"mysql4123\" , database = \"node-app\")\n",
    "    cursor = connection.cursor()\n",
    "\n",
    "    cursor.execute('Select * From Products Order By name, price') \n",
    "    try:\n",
    "        result = cursor.fetchall()\n",
    "              \n",
    "        for product in result :\n",
    "            print(f'id :{product[0]} name : {product[1]} price: {product[2]}')\n",
    "    except mysql.connector.Error as err:\n",
    "        print('Hata: ', err)\n",
    "    finally:\n",
    "        connection.close()\n",
    "        print(\"Database kapatıldı\")\n",
    "\n",
    "def getProductById(ıd):\n",
    "    \n",
    "    connection = mysql.connector.connect(host=\"localhost\", user = \"root\", password = \"mysql4123\" , database = \"node-app\")\n",
    "    cursor = connection.cursor()\n",
    "\n",
    "    sql = 'Select * From Products Where ıd = %s '\n",
    "    params = (ıd,)\n",
    "\n",
    "    cursor.execute(sql , params) \n",
    "    \n",
    "    result = cursor.fetchone()\n",
    "\n",
    "    print(f'id :{result[0]} name : {result[1]} price: {result[2]}')\n",
    "\n",
    "def updateProduct(ıd ,name, price):\n",
    "    connection = mysql.connector.connect(host=\"localhost\", user = \"root\", password = \"mysql4123\" , database = \"node-app\")\n",
    "    cursor = connection.cursor()\n",
    "    sql = 'Update products Set name = %s ,  price = %s where ıd = %s '\n",
    "    values = (name , price ,ıd )\n",
    "\n",
    "    cursor.execute(sql,values)\n",
    "\n",
    "    try:\n",
    "        connection.commit()\n",
    "        print(f'{cursor.rowcount} tane kayit güncellendi')\n",
    "\n",
    "    except mysql.connector.Error as err:\n",
    "        print('Hata: ', err)\n",
    "    finally:\n",
    "        connection.close()\n",
    "        print(\"Database kapatıldı\")\n",
    "\n",
    "def deleteProducts (ıd):\n",
    "    connection = mysql.connector.connect(host=\"localhost\", user = \"root\", password = \"mysql4123\" , database = \"node-app\")\n",
    "    cursor = connection.cursor()\n",
    "    sql = 'delete from products where ıd = %s '\n",
    "    values = (ıd,)\n",
    "    cursor.execute(sql,values)\n",
    "\n",
    "    try:\n",
    "        connection.commit()\n",
    "        print(f'{cursor.rowcount} tane kayit silindi')\n",
    "\n",
    "    except mysql.connector.Error as err:\n",
    "        print('Hata: ', err)\n",
    "    finally:\n",
    "        connection.close()\n",
    "        print(\"Database kapatıldı\")\n",
    "\n",
    "\n",
    "deleteProducts(5)\n",
    "getProducts()"
   ]
  },
  {
   "cell_type": "markdown",
   "metadata": {},
   "source": [
    "# 22.20 Güncelleme \n"
   ]
  },
  {
   "cell_type": "markdown",
   "metadata": {},
   "source": [
    "# 22.21 Birden Fazla Tablo ile Çalısma"
   ]
  },
  {
   "cell_type": "markdown",
   "metadata": {},
   "source": [
    "# 22.21 İlişkili Tablolardan veri Seçme\n"
   ]
  },
  {
   "cell_type": "code",
   "execution_count": null,
   "metadata": {},
   "outputs": [
    {
     "name": "stdout",
     "output_type": "stream",
     "text": [
      "('S8', Decimal('2323'), 'Telefon')\n",
      "Database kapatıldı\n"
     ]
    }
   ],
   "source": [
    "import mysql.connector # type: ignore\n",
    "\n",
    "def insertProduct(name,price,imageUrl,description):\n",
    "    connection = mysql.connector.connect(host=\"localhost\", user = \"root\", password = \"mysql4123\" , database = \"node-app\")\n",
    "    cursor = connection.cursor()\n",
    "\n",
    "    sql = \"INSERT INTO Products(name,price,imageUrl,description) VALUES (%s,%s,%s,%s)\"\n",
    "    values = (name,price,imageUrl,description)\n",
    "    cursor.execute(sql,values)\n",
    "    try:\n",
    "        connection.commit()\n",
    "        print(f'{cursor.rowcount} tane kayıt olusturuldu')   #rowcount kaç tane kayıt olusturuldugunu soyler.\n",
    "        print(f'son eklenen kaydın id :{cursor.lastrowid}')\n",
    "    except mysql.connector.Error as err:\n",
    "        print('Hata: ', err)\n",
    "    finally:\n",
    "        connection.close()\n",
    "        print(\"Database kapatıldı\")\n",
    "\n",
    "def insertProducts(list):\n",
    "    connection = mysql.connector.connect(host=\"localhost\", user = \"root\", password = \"mysql4123\" , database = \"node-app\")\n",
    "    cursor = connection.cursor()\n",
    "\n",
    "    sql = \"INSERT INTO Products(name,price,imageUrl,description) VALUES (%s,%s,%s,%s)\"\n",
    "    values = (list)\n",
    "    cursor.executemany(sql,values)\n",
    "    try:\n",
    "        connection.commit()\n",
    "        print(f'{cursor.rowcount} tanr kayıt olusturuldu')   #rowcount kaç tane kayıt olusturuldugunu soyler.\n",
    "        print(f'son eklenen kaydın id :{cursor.lastrowid}')\n",
    "    except mysql.connector.Error as err:\n",
    "        print('Hata: ', err)\n",
    "    finally:\n",
    "        connection.close()\n",
    "        print(\"Database kapatıldı\")\n",
    "\n",
    "def getProducts():\n",
    "    \n",
    "    connection = mysql.connector.connect(host=\"localhost\", user = \"root\", password = \"mysql4123\" , database = \"node-app\")\n",
    "    cursor = connection.cursor()\n",
    "\n",
    "    #sql = 'Select * From Products '\n",
    "    #sql = 'Select * From Categories '\n",
    "    #sql = 'Select * From Products inner join Categories on Categories.id=Products.Categoryid'\n",
    "    #sql = 'Select Products.name,Products.price,Categories.name from Products inner join Categories on Categories.id=Products.Categoryid'\n",
    "    #sql = 'Select Products.name,Products.price,Categories.name from Products inner join Categories on Categories.id=Products.Categoryid where Categories.name = \"Telefon\"'\n",
    "    sql = 'Select p.name,p.price,c.name from Products as p inner join Categories as c on c.id=p.Categoryid where p.name = \"S8\"'\n",
    "\n",
    "    cursor.execute(sql)\n",
    "    try:\n",
    "        result = cursor.fetchall()\n",
    "              \n",
    "        for product in result :\n",
    "            print(product)\n",
    "    except mysql.connector.Error as err:\n",
    "        print('Hata: ', err)\n",
    "    finally:\n",
    "        connection.close()\n",
    "        print(\"Database kapatıldı\")\n",
    "\n",
    "def getProductById(ıd):\n",
    "    \n",
    "    connection = mysql.connector.connect(host=\"localhost\", user = \"root\", password = \"mysql4123\" , database = \"node-app\")\n",
    "    cursor = connection.cursor()\n",
    "\n",
    "    sql = 'Select * From Products Where ıd = %s '\n",
    "    params = (ıd,)\n",
    "\n",
    "    cursor.execute(sql , params) \n",
    "    \n",
    "    result = cursor.fetchone()\n",
    "\n",
    "    print(f'id :{result[0]} name : {result[1]} price: {result[2]}')\n",
    "\n",
    "def updateProduct(ıd ,name, price):\n",
    "    connection = mysql.connector.connect(host=\"localhost\", user = \"root\", password = \"mysql4123\" , database = \"node-app\")\n",
    "    cursor = connection.cursor()\n",
    "    sql = 'Update products Set name = %s ,  price = %s where ıd = %s '\n",
    "    values = (name , price ,ıd )\n",
    "\n",
    "    cursor.execute(sql,values)\n",
    "\n",
    "    try:\n",
    "        connection.commit()\n",
    "        print(f'{cursor.rowcount} tane kayit güncellendi')\n",
    "\n",
    "    except mysql.connector.Error as err:\n",
    "        print('Hata: ', err)\n",
    "    finally:\n",
    "        connection.close()\n",
    "        print(\"Database kapatıldı\")\n",
    "\n",
    "\n",
    "getProducts()"
   ]
  },
  {
   "cell_type": "markdown",
   "metadata": {},
   "source": [
    "# 22.23 Ögrenci kayıt programı - Veri tabanlarının tasarımı"
   ]
  }
 ],
 "metadata": {
  "kernelspec": {
   "display_name": "Python 3",
   "language": "python",
   "name": "python3"
  },
  "language_info": {
   "codemirror_mode": {
    "name": "ipython",
    "version": 3
   },
   "file_extension": ".py",
   "mimetype": "text/x-python",
   "name": "python",
   "nbconvert_exporter": "python",
   "pygments_lexer": "ipython3",
   "version": "3.11.8"
  }
 },
 "nbformat": 4,
 "nbformat_minor": 2
}
