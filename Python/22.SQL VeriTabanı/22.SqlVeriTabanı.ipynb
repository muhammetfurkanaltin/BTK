{
 "cells": [
  {
   "cell_type": "markdown",
   "metadata": {},
   "source": [
    "# 22.1 Database Nedir"
   ]
  },
  {
   "cell_type": "markdown",
   "metadata": {},
   "source": [
    "    Memory \n",
    "    File System =>  .json .xml .xls\n",
    "    SQL         => (MySql  MsSql(Server))  SQLite(Serverless)\n",
    "    NoSQL       =>  MongoDb(Server)\n"
   ]
  },
  {
   "cell_type": "markdown",
   "metadata": {},
   "source": [
    "# 22.2 SQL VeriTabanı Yapısı"
   ]
  },
  {
   "cell_type": "markdown",
   "metadata": {},
   "source": [
    "# 22.3 SQL Tablo İlişkileri"
   ]
  },
  {
   "cell_type": "markdown",
   "metadata": {},
   "source": [
    "-One to many \n",
    "-Many to Many \n",
    "-One to One\n"
   ]
  },
  {
   "cell_type": "markdown",
   "metadata": {},
   "source": [
    "# 22.4 SQL Veri Tabanı Uygulama-1"
   ]
  },
  {
   "cell_type": "code",
   "execution_count": null,
   "metadata": {},
   "outputs": [],
   "source": []
  }
 ],
 "metadata": {
  "kernelspec": {
   "display_name": "Python 3",
   "language": "python",
   "name": "python3"
  },
  "language_info": {
   "name": "python",
   "version": "3.11.8"
  }
 },
 "nbformat": 4,
 "nbformat_minor": 2
}
